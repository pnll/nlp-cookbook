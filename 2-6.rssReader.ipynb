{
 "cells": [
  {
   "cell_type": "code",
   "execution_count": 1,
   "metadata": {},
   "outputs": [],
   "source": [
    "import feedparser"
   ]
  },
  {
   "cell_type": "code",
   "execution_count": 2,
   "metadata": {},
   "outputs": [],
   "source": [
    "myFeed = feedparser.parse(\"http://feeds.mashable.com/Mashable\")"
   ]
  },
  {
   "cell_type": "code",
   "execution_count": 3,
   "metadata": {},
   "outputs": [
    {
     "name": "stdout",
     "output_type": "stream",
     "text": [
      "Feed Title : Mashable\n",
      "Number of posts : 30\n"
     ]
    }
   ],
   "source": [
    "print('Feed Title :', myFeed['feed']['title'])\n",
    "print('Number of posts :', len(myFeed.entries))"
   ]
  },
  {
   "cell_type": "code",
   "execution_count": 4,
   "metadata": {},
   "outputs": [
    {
     "name": "stdout",
     "output_type": "stream",
     "text": [
      "Post Title : 6 videos to watch if you want to learn how to be a better man\n"
     ]
    }
   ],
   "source": [
    "post = myFeed.entries[0]\n",
    "print('Post Title :',post.title)"
   ]
  },
  {
   "cell_type": "code",
   "execution_count": 5,
   "metadata": {},
   "outputs": [
    {
     "name": "stdout",
     "output_type": "stream",
     "text": [
      "Raw content :\n",
      " <img alt=\"\" src=\"https://i.amz.mshcdn.com/iDdJH_W14zQeKoT7ZkrUwDFb7lg=/575x323/filters:quality(90)/https%3A%2F%2Fblueprint-api-production.s3.amazonaws.com%2Fuploads%2Fcard%2Fimage%2F793670%2Fa61d0105-64a4-4c29-addf-9bdbcf163b01.jpeg\" /><div style=\"float: right; width: 50px;\"><a href=\"https://twitter.com/share?via=Mashable&text=6+videos+to+watch+if+you+want+to+learn+how+to+be+a+better+man&url=https%3A%2F%2Fmashable.com%2F2018%2F06%2F17%2Fhow-to-be-a-better-man-videos%2F\" style=\"margin: 10px;\"><img alt=\"Twitter\" border=\"0\" src=\"https://a.amz.mshcdn.com/assets/feed-tw-e71baf64f2ec58d01cd28f4e9ef6b2ce0370b42fbd965068e9e7b58be198fb13.jpg\" /></a><a href=\"https://www.facebook.com/sharer.php?u=https%3A%2F%2Fmashable.com%2F2018%2F06%2F17%2Fhow-to-be-a-better-man-videos%2F&src=sp\" style=\"margin: 10px;\"><img alt=\"Facebook\" border=\"0\" src=\"https://a.amz.mshcdn.com/assets/feed-fb-8e3bd31e201ea65385a524ef67519d031e6851071807055648790d6a4ca77139.jpg\" /></a></div><p>If you're a boy on the internet secretly looking for guidance about how to be a man, you might end up in a popular, misogynist Reddit <a href=\"https://www.vox.com/culture/2017/4/28/15434770/red-pill-founded-by-robert-fisher-new-hampshire\">forum</a> or on a 4chan board about \"<a href=\"https://psmag.com/news/who-are-the-incels-of-4chan-and-why-are-they-so-angry\">incels</a>.\" Or maybe you're watching video lectures by Jordan Peterson, a psychologist who saw boys and men hungry for guidance and developed a cult following by <a href=\"https://www.newyorker.com/magazine/2018/03/05/jordan-petersons-gospel-of-masculinity\">talking to them</a> about <a href=\"https://www.nytimes.com/2018/01/25/opinion/jordan-peterson-moment.html\">male dominance and self-help</a>.</p>\n",
      "<div><p>SEE ALSO: <a href=\"https://mashable.com/2018/05/17/men-mental-health-stigma-celebrities/\">'You're not alone': Famous men are talking about mental health, and it could save lives</a></p></div>\n",
      "<p>While it might be easy to find sexist or conservative advice for becoming the man you always hoped you'd be, it can be difficult to find counsel from those who champion a more expansive, inclusive vision of masculinity.&#160; <a href=\"https://mashable.com/2018/06/17/how-to-be-a-better-man-videos/\">Read more...</a></p>More about <a href=\"https://mashable.com/category/videos/?utm_campaign=Mash-Prod-RSS-Feedburner-All-Partial&amp;utm_cid=Mash-Prod-RSS-Feedburner-All-Partial\">Videos</a>, <a href=\"https://mashable.com/social-good/?utm_campaign=Mash-Prod-RSS-Feedburner-All-Partial&amp;utm_cid=Mash-Prod-RSS-Feedburner-All-Partial\">Social Good</a>, <a href=\"https://mashable.com/category/masculinity/?utm_campaign=Mash-Prod-RSS-Feedburner-All-Partial&amp;utm_cid=Mash-Prod-RSS-Feedburner-All-Partial\">Masculinity</a>, <a href=\"https://mashable.com/category/manhood/?utm_campaign=Mash-Prod-RSS-Feedburner-All-Partial&amp;utm_cid=Mash-Prod-RSS-Feedburner-All-Partial\">Manhood</a>, and <a href=\"https://mashable.com/social-good/?utm_campaign=Mash-Prod-RSS-Feedburner-All-Partial&amp;utm_cid=Mash-Prod-RSS-Feedburner-All-Partial\">Social Good</a><img src=\"http://feeds.feedburner.com/~r/Mashable/~4/6QhzZbrqi20\" height=\"1\" width=\"1\" alt=\"\"/>\n"
     ]
    }
   ],
   "source": [
    "content = post.content[0].value\n",
    "print('Raw content :\\n',content)"
   ]
  },
  {
   "cell_type": "code",
   "execution_count": 6,
   "metadata": {},
   "outputs": [
    {
     "name": "stdout",
     "output_type": "stream",
     "text": [
      "Feed Title : Mashable\n",
      "Number of posts : 30\n",
      "Post Title : 6 videos to watch if you want to learn how to be a better man\n",
      "Raw content :\n",
      " <img alt=\"\" src=\"https://i.amz.mshcdn.com/iDdJH_W14zQeKoT7ZkrUwDFb7lg=/575x323/filters:quality(90)/https%3A%2F%2Fblueprint-api-production.s3.amazonaws.com%2Fuploads%2Fcard%2Fimage%2F793670%2Fa61d0105-64a4-4c29-addf-9bdbcf163b01.jpeg\" /><div style=\"float: right; width: 50px;\"><a href=\"https://twitter.com/share?via=Mashable&text=6+videos+to+watch+if+you+want+to+learn+how+to+be+a+better+man&url=https%3A%2F%2Fmashable.com%2F2018%2F06%2F17%2Fhow-to-be-a-better-man-videos%2F\" style=\"margin: 10px;\"><img alt=\"Twitter\" border=\"0\" src=\"https://a.amz.mshcdn.com/assets/feed-tw-e71baf64f2ec58d01cd28f4e9ef6b2ce0370b42fbd965068e9e7b58be198fb13.jpg\" /></a><a href=\"https://www.facebook.com/sharer.php?u=https%3A%2F%2Fmashable.com%2F2018%2F06%2F17%2Fhow-to-be-a-better-man-videos%2F&src=sp\" style=\"margin: 10px;\"><img alt=\"Facebook\" border=\"0\" src=\"https://a.amz.mshcdn.com/assets/feed-fb-8e3bd31e201ea65385a524ef67519d031e6851071807055648790d6a4ca77139.jpg\" /></a></div><p>If you're a boy on the internet secretly looking for guidance about how to be a man, you might end up in a popular, misogynist Reddit <a href=\"https://www.vox.com/culture/2017/4/28/15434770/red-pill-founded-by-robert-fisher-new-hampshire\">forum</a> or on a 4chan board about \"<a href=\"https://psmag.com/news/who-are-the-incels-of-4chan-and-why-are-they-so-angry\">incels</a>.\" Or maybe you're watching video lectures by Jordan Peterson, a psychologist who saw boys and men hungry for guidance and developed a cult following by <a href=\"https://www.newyorker.com/magazine/2018/03/05/jordan-petersons-gospel-of-masculinity\">talking to them</a> about <a href=\"https://www.nytimes.com/2018/01/25/opinion/jordan-peterson-moment.html\">male dominance and self-help</a>.</p>\n",
      "<div><p>SEE ALSO: <a href=\"https://mashable.com/2018/05/17/men-mental-health-stigma-celebrities/\">'You're not alone': Famous men are talking about mental health, and it could save lives</a></p></div>\n",
      "<p>While it might be easy to find sexist or conservative advice for becoming the man you always hoped you'd be, it can be difficult to find counsel from those who champion a more expansive, inclusive vision of masculinity.&#160; <a href=\"https://mashable.com/2018/06/17/how-to-be-a-better-man-videos/\">Read more...</a></p>More about <a href=\"https://mashable.com/category/videos/?utm_campaign=Mash-Prod-RSS-Feedburner-All-Partial&amp;utm_cid=Mash-Prod-RSS-Feedburner-All-Partial\">Videos</a>, <a href=\"https://mashable.com/social-good/?utm_campaign=Mash-Prod-RSS-Feedburner-All-Partial&amp;utm_cid=Mash-Prod-RSS-Feedburner-All-Partial\">Social Good</a>, <a href=\"https://mashable.com/category/masculinity/?utm_campaign=Mash-Prod-RSS-Feedburner-All-Partial&amp;utm_cid=Mash-Prod-RSS-Feedburner-All-Partial\">Masculinity</a>, <a href=\"https://mashable.com/category/manhood/?utm_campaign=Mash-Prod-RSS-Feedburner-All-Partial&amp;utm_cid=Mash-Prod-RSS-Feedburner-All-Partial\">Manhood</a>, and <a href=\"https://mashable.com/social-good/?utm_campaign=Mash-Prod-RSS-Feedburner-All-Partial&amp;utm_cid=Mash-Prod-RSS-Feedburner-All-Partial\">Social Good</a><img src=\"http://feeds.feedburner.com/~r/Mashable/~4/6QhzZbrqi20\" height=\"1\" width=\"1\" alt=\"\"/>\n"
     ]
    }
   ],
   "source": [
    "import feedparser\n",
    "\n",
    "myFeed = feedparser.parse(\"http://feeds.mashable.com/Mashable\")\n",
    "print('Feed Title :', myFeed['feed']['title'])\n",
    "print('Number of posts :', len(myFeed.entries))\n",
    "post = myFeed.entries[0]\n",
    "print('Post Title :',post.title)\n",
    "content = post.content[0].value\n",
    "print('Raw content :\\n',content)"
   ]
  },
  {
   "cell_type": "code",
   "execution_count": null,
   "metadata": {},
   "outputs": [],
   "source": []
  }
 ],
 "metadata": {
  "kernelspec": {
   "display_name": "Python 3",
   "language": "python",
   "name": "python3"
  },
  "language_info": {
   "codemirror_mode": {
    "name": "ipython",
    "version": 3
   },
   "file_extension": ".py",
   "mimetype": "text/x-python",
   "name": "python",
   "nbconvert_exporter": "python",
   "pygments_lexer": "ipython3",
   "version": "3.6.5"
  }
 },
 "nbformat": 4,
 "nbformat_minor": 2
}
