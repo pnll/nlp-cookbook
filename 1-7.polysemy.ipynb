{
 "cells": [
  {
   "cell_type": "code",
   "execution_count": 2,
   "metadata": {},
   "outputs": [],
   "source": [
    "from nltk.corpus import wordnet as wn\n",
    "type = 'n'"
   ]
  },
  {
   "cell_type": "code",
   "execution_count": 3,
   "metadata": {},
   "outputs": [],
   "source": [
    "synsets = wn.all_synsets(type)"
   ]
  },
  {
   "cell_type": "code",
   "execution_count": 4,
   "metadata": {},
   "outputs": [],
   "source": [
    "lemmas = []\n",
    "for synset in synsets:\n",
    "    for lemma in synset.lemmas():\n",
    "        lemmas.append(lemma.name())"
   ]
  },
  {
   "cell_type": "code",
   "execution_count": 5,
   "metadata": {},
   "outputs": [],
   "source": [
    "lemmas = set(lemmas)"
   ]
  },
  {
   "cell_type": "code",
   "execution_count": 6,
   "metadata": {},
   "outputs": [],
   "source": [
    "count = 0\n",
    "for lemma in lemmas:\n",
    "    count = count + len(wn.synsets(lemma, type))"
   ]
  },
  {
   "cell_type": "code",
   "execution_count": 7,
   "metadata": {},
   "outputs": [
    {
     "name": "stdout",
     "output_type": "stream",
     "text": [
      "Total distinct lemmas:  119034\n",
      "Total senses : 152763\n",
      "Average Polysemy of  n :  1.2833560159282222\n"
     ]
    }
   ],
   "source": [
    "print('Total distinct lemmas: ', len(lemmas))\n",
    "print('Total senses :',count)\n",
    "print('Average Polysemy of ', type,': ' , count/len(lemmas))"
   ]
  },
  {
   "cell_type": "code",
   "execution_count": 8,
   "metadata": {},
   "outputs": [
    {
     "name": "stdout",
     "output_type": "stream",
     "text": [
      "146347\n",
      "Total distinct lemmas:  119034\n",
      "Total senses : 152763\n",
      "Average Polysemy of  n :  1.2833560159282222\n"
     ]
    }
   ],
   "source": [
    "from nltk.corpus import wordnet as wn\n",
    "type = 'n'\n",
    "\n",
    "synsets = wn.all_synsets(type)\n",
    "\n",
    "lemmas = []\n",
    "for synset in synsets:\n",
    "    for lemma in synset.lemmas():\n",
    "        lemmas.append(lemma.name())\n",
    "\n",
    "print(len(lemmas))\n",
    "lemmas = set(lemmas)\n",
    "print('Total distinct lemmas: ', len(lemmas))\n",
    "\n",
    "count = 0\n",
    "for lemma in lemmas:\n",
    "    count = count + len(wn.synsets(lemma, type))\n",
    "\n",
    "print('Total senses :',count)\n",
    "print('Average Polysemy of ', type,': ' ,  count/len(lemmas))"
   ]
  },
  {
   "cell_type": "code",
   "execution_count": null,
   "metadata": {},
   "outputs": [],
   "source": []
  }
 ],
 "metadata": {
  "kernelspec": {
   "display_name": "Python 3",
   "language": "python",
   "name": "python3"
  },
  "language_info": {
   "codemirror_mode": {
    "name": "ipython",
    "version": 3
   },
   "file_extension": ".py",
   "mimetype": "text/x-python",
   "name": "python",
   "nbconvert_exporter": "python",
   "pygments_lexer": "ipython3",
   "version": "3.6.5"
  }
 },
 "nbformat": 4,
 "nbformat_minor": 2
}
