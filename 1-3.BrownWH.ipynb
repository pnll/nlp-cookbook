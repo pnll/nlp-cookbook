{
 "cells": [
  {
   "cell_type": "code",
   "execution_count": 1,
   "metadata": {},
   "outputs": [],
   "source": [
    "import nltk\n",
    "from nltk.corpus import brown"
   ]
  },
  {
   "cell_type": "code",
   "execution_count": 2,
   "metadata": {},
   "outputs": [
    {
     "name": "stdout",
     "output_type": "stream",
     "text": [
      "['adventure', 'belles_lettres', 'editorial', 'fiction', 'government', 'hobbies', 'humor', 'learned', 'lore', 'mystery', 'news', 'religion', 'reviews', 'romance', 'science_fiction']\n"
     ]
    }
   ],
   "source": [
    "print(brown.categories())"
   ]
  },
  {
   "cell_type": "code",
   "execution_count": 3,
   "metadata": {},
   "outputs": [],
   "source": [
    "genres = ['fiction', 'humor', 'romance']\n",
    "whwords = ['what', 'which', 'how', 'why', 'when', 'where', 'who']"
   ]
  },
  {
   "cell_type": "code",
   "execution_count": 4,
   "metadata": {},
   "outputs": [
    {
     "name": "stdout",
     "output_type": "stream",
     "text": [
      "\n",
      "Analysing 'fiction' wh words\n",
      "\n",
      "Analysing 'humor' wh words\n",
      "\n",
      "Analysing 'romance' wh words\n"
     ]
    }
   ],
   "source": [
    "for i in range(0,len(genres)):\n",
    "    genre = genres[i]\n",
    "    print()\n",
    "    print(\"Analysing '\"+ genre + \"' wh words\")\n",
    "    genre_text = brown.words(categories = genre)"
   ]
  },
  {
   "cell_type": "code",
   "execution_count": 5,
   "metadata": {},
   "outputs": [],
   "source": [
    "    fdist = nltk.FreqDist(genre_text)"
   ]
  },
  {
   "cell_type": "code",
   "execution_count": 6,
   "metadata": {},
   "outputs": [
    {
     "name": "stdout",
     "output_type": "stream",
     "text": [
      "what: 121 which: 104 how: 60 why: 34 when: 126 where: 54 who: 89 "
     ]
    }
   ],
   "source": [
    "    for wh in whwords:\n",
    "        print(wh + ':', fdist[wh], end=' ')"
   ]
  },
  {
   "cell_type": "code",
   "execution_count": 7,
   "metadata": {},
   "outputs": [
    {
     "name": "stdout",
     "output_type": "stream",
     "text": [
      "['adventure', 'belles_lettres', 'editorial', 'fiction', 'government', 'hobbies', 'humor', 'learned', 'lore', 'mystery', 'news', 'religion', 'reviews', 'romance', 'science_fiction']\n",
      "\n",
      "Analysing 'fiction' wh words\n",
      "what: 128 which: 123 how: 54 why: 18 when: 133 where: 76 who: 103 \n",
      "Analysing 'humor' wh words\n",
      "what: 36 which: 62 how: 18 why: 9 when: 52 where: 15 who: 48 \n",
      "Analysing 'romance' wh words\n",
      "what: 121 which: 104 how: 60 why: 34 when: 126 where: 54 who: 89 "
     ]
    }
   ],
   "source": [
    "import nltk\n",
    "from nltk.corpus import brown\n",
    "\n",
    "print(brown.categories())\n",
    "\n",
    "genres = ['fiction', 'humor', 'romance']\n",
    "whwords = ['what', 'which', 'how', 'why', 'when', 'where', 'who']\n",
    "\n",
    "\n",
    "for i in range(0,len(genres)):\n",
    "    genre = genres[i]\n",
    "    print()\n",
    "    print(\"Analysing '\"+ genre + \"' wh words\")\n",
    "    genre_text = brown.words(categories = genre)\n",
    "    fdist = nltk.FreqDist(genre_text)\n",
    "    for wh in whwords:\n",
    "        print(wh + ':', fdist[wh], end=' ')"
   ]
  },
  {
   "cell_type": "code",
   "execution_count": null,
   "metadata": {},
   "outputs": [],
   "source": []
  }
 ],
 "metadata": {
  "kernelspec": {
   "display_name": "Python 3",
   "language": "python",
   "name": "python3"
  },
  "language_info": {
   "codemirror_mode": {
    "name": "ipython",
    "version": 3
   },
   "file_extension": ".py",
   "mimetype": "text/x-python",
   "name": "python",
   "nbconvert_exporter": "python",
   "pygments_lexer": "ipython3",
   "version": "3.6.5"
  }
 },
 "nbformat": 4,
 "nbformat_minor": 2
}
