{
 "cells": [
  {
   "cell_type": "code",
   "execution_count": 2,
   "metadata": {},
   "outputs": [
    {
     "name": "stderr",
     "output_type": "stream",
     "text": [
      "c:\\dev\\python36\\lib\\site-packages\\gensim\\utils.py:1197: UserWarning: detected Windows; aliasing chunkize to chunkize_serial\n",
      "  warnings.warn(\"detected Windows; aliasing chunkize to chunkize_serial\")\n"
     ]
    }
   ],
   "source": [
    "from nltk.tokenize import RegexpTokenizer\n",
    "from nltk.corpus import stopwords\n",
    "from gensim import corpora, models\n",
    "import nltk\n",
    "import feedparser\n"
   ]
  },
  {
   "cell_type": "code",
   "execution_count": 3,
   "metadata": {},
   "outputs": [],
   "source": [
    "class IdentifyingTopicExample:\n",
    "    def getDocuments(self):\n",
    "        url = 'https://sports.yahoo.com/mlb/rss.xml'\n",
    "        feed = feedparser.parse(url)\n",
    "        self.documents = []\n",
    "        for entry in feed['entries'][:5]:\n",
    "            text = entry['summary']\n",
    "            if 'ex' in text:\n",
    "                continue\n",
    "            self.documents.append(text)\n",
    "            print(\"-- {}\".format(text))\n",
    "        print(\"INFO: Fetching documents from {} completed\".format(url))\n",
    "        \n",
    "    def cleanDocuments(self):\n",
    "        tokenizer = RegexpTokenizer(r'[a-zA-Z]+')\n",
    "        en_stop = set(stopwords.words('english'))\n",
    "        self.cleaned = []\n",
    "        for doc in self.documents:\n",
    "            lowercase_doc = doc.lower()\n",
    "            words = tokenizer.tokenize(lowercase_doc)\n",
    "            non_stopped_words = [i for i in words if not i in en_stop]\n",
    "            self.cleaned.append(non_stopped_words)\n",
    "        print(\"INFO: Cleaning {} documents completed\".format(len(self.documents)))\n",
    "\n",
    "    def doLDA(self):\n",
    "        dictionary = corpora.Dictionary(self.cleaned)\n",
    "        corpus = [dictionary.doc2bow(cleandoc) for cleandoc in self.cleaned]\n",
    "        ldamodel = models.ldamodel.LdaModel(corpus, num_topics=2, id2word=dictionary)\n",
    "        print(ldamodel.print_topics(num_topics=2, num_words=4))\n",
    "        \n",
    "    def run(self):\n",
    "        self.getDocuments()\n",
    "        self.cleanDocuments()\n",
    "        self.doLDA()\n",
    "\n",
    "\n"
   ]
  },
  {
   "cell_type": "code",
   "execution_count": 4,
   "metadata": {},
   "outputs": [
    {
     "name": "stdout",
     "output_type": "stream",
     "text": [
      "-- Peter Moylan suffered his first loss in 208 appearances, spanning eight seasons, on Friday night — the second-longest streak in MLB history.\n",
      "-- June 24(Reuters) - Reuters U.S. sports schedule at 2:15 PM ET on Sunday:\n",
      "-- Dane Dunning left a start with Double-A Birmingham on Saturday due to elbow soreness and the White Sox gave a preliminary update on his status.\n",
      "-- Freddie Freeman puts the Braves on the board in the 1st, as he lines a single into left field to drive in Ender Inciarte and Ozzie Albies\n",
      "-- Miguel Andujar belts a three-run homer to left field for his 11th of the year, giving the Yankees a 3-2 lead in the 2nd inning\n",
      "INFO: Fetching documents from https://sports.yahoo.com/mlb/rss.xml completed\n",
      "INFO: Cleaning 5 documents completed\n",
      "[(0, '0.024*\"left\" + 0.021*\"field\" + 0.021*\"yankees\" + 0.021*\"run\"'), (1, '0.033*\"left\" + 0.024*\"reuters\" + 0.023*\"field\" + 0.020*\"st\"')]\n"
     ]
    }
   ],
   "source": [
    "if __name__ == '__main__':\n",
    "    topicExample = IdentifyingTopicExample()\n",
    "    topicExample.run()\n"
   ]
  },
  {
   "cell_type": "code",
   "execution_count": 5,
   "metadata": {},
   "outputs": [
    {
     "name": "stdout",
     "output_type": "stream",
     "text": [
      "-- Peter Moylan suffered his first loss in 208 appearances, spanning eight seasons, on Friday night — the second-longest streak in MLB history.\n",
      "-- June 24(Reuters) - Reuters U.S. sports schedule at 2:15 PM ET on Sunday:\n",
      "-- Dane Dunning left a start with Double-A Birmingham on Saturday due to elbow soreness and the White Sox gave a preliminary update on his status.\n",
      "-- Freddie Freeman puts the Braves on the board in the 1st, as he lines a single into left field to drive in Ender Inciarte and Ozzie Albies\n",
      "-- Miguel Andujar belts a three-run homer to left field for his 11th of the year, giving the Yankees a 3-2 lead in the 2nd inning\n",
      "INFO: Fetching documents from https://sports.yahoo.com/mlb/rss.xml completed\n",
      "INFO: Clearning 5 documents completed\n",
      "[(0, '0.034*\"left\" + 0.032*\"field\" + 0.021*\"single\" + 0.021*\"albies\"'), (1, '0.034*\"reuters\" + 0.024*\"left\" + 0.021*\"sports\" + 0.021*\"u\"')]\n"
     ]
    }
   ],
   "source": [
    "from nltk.tokenize import RegexpTokenizer\n",
    "from nltk.corpus import stopwords\n",
    "from gensim import corpora, models\n",
    "import nltk\n",
    "import feedparser\n",
    "\n",
    "class IdentifyingTopicExample:\n",
    "    def getDocuments(self):\n",
    "        url = 'https://sports.yahoo.com/mlb/rss.xml'\n",
    "        feed = feedparser.parse(url)\n",
    "        self.documents = []\n",
    "        for entry in feed['entries'][:5]:\n",
    "            text = entry['summary']\n",
    "            if 'ex' in text:\n",
    "                continue\n",
    "            self.documents.append(text)\n",
    "            print(\"-- {}\".format(text))\n",
    "        print(\"INFO: Fetching documents from {} completed\".format(url))\n",
    "\n",
    "    def cleanDocuments(self):\n",
    "        tokenizer = RegexpTokenizer(r'[a-zA-Z]+')\n",
    "        en_stop = set(stopwords.words('english'))\n",
    "        self.cleaned = []\n",
    "        for doc in self.documents:\n",
    "            lowercase_doc = doc.lower()\n",
    "            words = tokenizer.tokenize(lowercase_doc)\n",
    "            non_stopped_words = [i for i in words if not i in en_stop]\n",
    "            self.cleaned.append(non_stopped_words)\n",
    "        print(\"INFO: Clearning {} documents completed\".format(len(self.documents)))\n",
    "\n",
    "    def doLDA(self):\n",
    "        dictionary = corpora.Dictionary(self.cleaned)\n",
    "        corpus = [dictionary.doc2bow(cleandoc) for cleandoc in self.cleaned]\n",
    "        ldamodel = models.ldamodel.LdaModel(corpus, num_topics=2, id2word = dictionary)\n",
    "        print(ldamodel.print_topics(num_topics=2, num_words=4))\n",
    "\n",
    "    def run(self):\n",
    "        self.getDocuments()\n",
    "        self.cleanDocuments()\n",
    "        self.doLDA()\n",
    "\n",
    "if __name__ == '__main__':\n",
    "    topicExample = IdentifyingTopicExample()\n",
    "    topicExample.run()\n"
   ]
  },
  {
   "cell_type": "code",
   "execution_count": null,
   "metadata": {},
   "outputs": [],
   "source": []
  }
 ],
 "metadata": {
  "kernelspec": {
   "display_name": "Python 3",
   "language": "python",
   "name": "python3"
  },
  "language_info": {
   "codemirror_mode": {
    "name": "ipython",
    "version": 3
   },
   "file_extension": ".py",
   "mimetype": "text/x-python",
   "name": "python",
   "nbconvert_exporter": "python",
   "pygments_lexer": "ipython3",
   "version": "3.6.5"
  }
 },
 "nbformat": 4,
 "nbformat_minor": 2
}
