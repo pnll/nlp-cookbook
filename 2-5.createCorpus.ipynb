{
 "cells": [
  {
   "cell_type": "code",
   "execution_count": 1,
   "metadata": {},
   "outputs": [],
   "source": [
    "import os\n",
    "import word, pdf\n",
    "from nltk.corpus.reader.plaintext import PlaintextCorpusReader"
   ]
  },
  {
   "cell_type": "code",
   "execution_count": 2,
   "metadata": {},
   "outputs": [],
   "source": [
    "def getText(txtFileName):\n",
    "    file = open(txtFileName, 'r')\n",
    "    return file.read()"
   ]
  },
  {
   "cell_type": "code",
   "execution_count": 3,
   "metadata": {},
   "outputs": [],
   "source": [
    "newCorpusDir = 'mycorpus/'\n",
    "if not os.path.isdir(newCorpusDir):\n",
    "    os.mkdir(newCorpusDir)"
   ]
  },
  {
   "cell_type": "code",
   "execution_count": 5,
   "metadata": {},
   "outputs": [],
   "source": [
    "txt1 = getText('sample_feed.txt')"
   ]
  },
  {
   "cell_type": "code",
   "execution_count": 6,
   "metadata": {},
   "outputs": [],
   "source": [
    "txt2 = pdf.getTextPDF('sample-pdf.pdf')"
   ]
  },
  {
   "cell_type": "code",
   "execution_count": 7,
   "metadata": {},
   "outputs": [],
   "source": [
    "txt3 = word.getTextWord('sample-one-line.docx')"
   ]
  },
  {
   "cell_type": "code",
   "execution_count": 8,
   "metadata": {},
   "outputs": [],
   "source": [
    "files = [txt1,txt2,txt3]\n",
    "for idx, f in enumerate(files):\n",
    "    with open(newCorpusDir+str(idx)+'.txt', 'w') as fout:\n",
    "        fout.write(f)"
   ]
  },
  {
   "cell_type": "code",
   "execution_count": 9,
   "metadata": {},
   "outputs": [],
   "source": [
    "newCorpus = PlaintextCorpusReader(newCorpusDir, '.*')"
   ]
  },
  {
   "cell_type": "code",
   "execution_count": 10,
   "metadata": {},
   "outputs": [
    {
     "name": "stdout",
     "output_type": "stream",
     "text": [
      "['Five', 'months', '.', 'That', \"'\", 's', 'how', ...]\n",
      "[['A', 'generic', 'NLP'], ['(', 'Natural', 'Language', 'Processing', ')', 'toolset'], ...]\n",
      "[[['Five', 'months', '.']], [['That', \"'\", 's', 'how', 'long', 'it', \"'\", 's', 'been', 'since', 'Mass', 'Effect', ':', 'Andromeda', 'launched', ',', 'and', 'that', \"'\", 's', 'how', 'long', 'it', 'took', 'BioWare', 'Montreal', 'to', 'admit', 'that', 'nothing', 'more', 'can', 'be', 'done', 'with', 'the', 'ailing', 'game', \"'\", 's', 'story', 'mode', '.'], ['Technically', ',', 'it', 'wasn', \"'\", 't', 'even', 'a', 'full', 'five', 'months', ',', 'as', 'Andromeda', 'launched', 'on', 'March', '21', '.']], ...]\n"
     ]
    }
   ],
   "source": [
    "print(newCorpus.words())\n",
    "print(newCorpus.sents(newCorpus.fileids()[1]))\n",
    "print(newCorpus.paras(newCorpus.fileids()[0]))"
   ]
  },
  {
   "cell_type": "code",
   "execution_count": 11,
   "metadata": {},
   "outputs": [
    {
     "name": "stdout",
     "output_type": "stream",
     "text": [
      "['Five', 'months', '.', 'That', \"'\", 's', 'how', ...]\n",
      "[['A', 'generic', 'NLP'], ['(', 'Natural', 'Language', 'Processing', ')', 'toolset'], ...]\n",
      "[[['Five', 'months', '.']], [['That', \"'\", 's', 'how', 'long', 'it', \"'\", 's', 'been', 'since', 'Mass', 'Effect', ':', 'Andromeda', 'launched', ',', 'and', 'that', \"'\", 's', 'how', 'long', 'it', 'took', 'BioWare', 'Montreal', 'to', 'admit', 'that', 'nothing', 'more', 'can', 'be', 'done', 'with', 'the', 'ailing', 'game', \"'\", 's', 'story', 'mode', '.'], ['Technically', ',', 'it', 'wasn', \"'\", 't', 'even', 'a', 'full', 'five', 'months', ',', 'as', 'Andromeda', 'launched', 'on', 'March', '21', '.']], ...]\n"
     ]
    }
   ],
   "source": [
    "import os\n",
    "import word, pdf\n",
    "from nltk.corpus.reader.plaintext import PlaintextCorpusReader\n",
    "\n",
    "def getText(txtFileName):\n",
    "    file = open(txtFileName, 'r')\n",
    "    return file.read()\n",
    "\n",
    "newCorpusDir = 'mycorpus/'\n",
    "if not os.path.isdir(newCorpusDir):\n",
    "    os.mkdir(newCorpusDir)\n",
    "\n",
    "txt1 = getText('sample_feed.txt')\n",
    "txt2 = pdf.getTextPDF('sample-pdf.pdf')\n",
    "txt3 = word.getTextWord('sample-one-line.docx')\n",
    "\n",
    "\n",
    "files = [txt1,txt2,txt3]\n",
    "for idx, f in enumerate(files):\n",
    "    with open(newCorpusDir+str(idx)+'.txt', 'w') as fout:\n",
    "        fout.write(f)\n",
    "\n",
    "newCorpus = PlaintextCorpusReader(newCorpusDir, '.*')\n",
    "\n",
    "print(newCorpus.words())\n",
    "print(newCorpus.sents(newCorpus.fileids()[1]))\n",
    "print(newCorpus.paras(newCorpus.fileids()[0]))"
   ]
  },
  {
   "cell_type": "code",
   "execution_count": null,
   "metadata": {},
   "outputs": [],
   "source": []
  }
 ],
 "metadata": {
  "kernelspec": {
   "display_name": "Python 3",
   "language": "python",
   "name": "python3"
  },
  "language_info": {
   "codemirror_mode": {
    "name": "ipython",
    "version": 3
   },
   "file_extension": ".py",
   "mimetype": "text/x-python",
   "name": "python",
   "nbconvert_exporter": "python",
   "pygments_lexer": "ipython3",
   "version": "3.6.5"
  }
 },
 "nbformat": 4,
 "nbformat_minor": 2
}
