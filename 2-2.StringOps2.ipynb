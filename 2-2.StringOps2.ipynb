{
 "cells": [
  {
   "cell_type": "code",
   "execution_count": 1,
   "metadata": {},
   "outputs": [],
   "source": [
    "str = 'NLTK Dolly Python'"
   ]
  },
  {
   "cell_type": "code",
   "execution_count": 2,
   "metadata": {},
   "outputs": [
    {
     "name": "stdout",
     "output_type": "stream",
     "text": [
      "Substring ends at: NLTK\n"
     ]
    }
   ],
   "source": [
    "print('Substring ends at:',str[:4])"
   ]
  },
  {
   "cell_type": "code",
   "execution_count": 3,
   "metadata": {},
   "outputs": [
    {
     "name": "stdout",
     "output_type": "stream",
     "text": [
      "Substring starts from: Python\n"
     ]
    }
   ],
   "source": [
    "print('Substring starts from:',str[11:])"
   ]
  },
  {
   "cell_type": "code",
   "execution_count": 4,
   "metadata": {},
   "outputs": [
    {
     "name": "stdout",
     "output_type": "stream",
     "text": [
      "Substring : Dolly\n"
     ]
    }
   ],
   "source": [
    "print('Substring :', str[5:10])"
   ]
  },
  {
   "cell_type": "code",
   "execution_count": 5,
   "metadata": {},
   "outputs": [
    {
     "name": "stdout",
     "output_type": "stream",
     "text": [
      "Substring fancy: Dolly\n"
     ]
    }
   ],
   "source": [
    "print('Substring fancy:', str[-12:-7])"
   ]
  },
  {
   "cell_type": "code",
   "execution_count": 6,
   "metadata": {},
   "outputs": [
    {
     "name": "stdout",
     "output_type": "stream",
     "text": [
      "found NLTK\n"
     ]
    }
   ],
   "source": [
    "if 'NLTK' in str:\n",
    "    print('found NLTK')"
   ]
  },
  {
   "cell_type": "code",
   "execution_count": 7,
   "metadata": {},
   "outputs": [
    {
     "name": "stdout",
     "output_type": "stream",
     "text": [
      "Replaced String: NLTK Dorothy Python\n"
     ]
    }
   ],
   "source": [
    "replaced = str.replace('Dolly', 'Dorothy')\n",
    "print('Replaced String:', replaced)"
   ]
  },
  {
   "cell_type": "code",
   "execution_count": 8,
   "metadata": {},
   "outputs": [
    {
     "name": "stdout",
     "output_type": "stream",
     "text": [
      "Accessing each character:\n",
      "N\n",
      "L\n",
      "T\n",
      "K\n",
      " \n",
      "D\n",
      "o\n",
      "r\n",
      "o\n",
      "t\n",
      "h\n",
      "y\n",
      " \n",
      "P\n",
      "y\n",
      "t\n",
      "h\n",
      "o\n",
      "n\n"
     ]
    }
   ],
   "source": [
    "print('Accessing each character:')\n",
    "for s in replaced:\n",
    "    print(s)"
   ]
  },
  {
   "cell_type": "code",
   "execution_count": 9,
   "metadata": {},
   "outputs": [
    {
     "name": "stdout",
     "output_type": "stream",
     "text": [
      "Substring ends at: NLTK\n",
      "Substring starts from: Python\n",
      "Substring : Dolly\n",
      "Substring fancy: Dolly\n",
      "found NLTK\n",
      "Replaced String: NLTK Dorothy Python\n",
      "Accessing each character:\n",
      "N\n",
      "L\n",
      "T\n",
      "K\n",
      " \n",
      "D\n",
      "o\n",
      "r\n",
      "o\n",
      "t\n",
      "h\n",
      "y\n",
      " \n",
      "P\n",
      "y\n",
      "t\n",
      "h\n",
      "o\n",
      "n\n"
     ]
    }
   ],
   "source": [
    "str = 'NLTK Dolly Python'\n",
    "print('Substring ends at:',str[:4])\n",
    "\n",
    "print('Substring starts from:',str[11:] )\n",
    "print('Substring :',str[5:10])\n",
    "print('Substring fancy:', str[-12:-7])\n",
    "\n",
    "if 'NLTK' in str:\n",
    "    print('found NLTK')\n",
    "\n",
    "replaced = str.replace('Dolly', 'Dorothy')\n",
    "print('Replaced String:', replaced)\n",
    "\n",
    "print('Accessing each character:')\n",
    "for s in replaced:\n",
    "    print(s)"
   ]
  },
  {
   "cell_type": "code",
   "execution_count": null,
   "metadata": {},
   "outputs": [],
   "source": []
  }
 ],
 "metadata": {
  "kernelspec": {
   "display_name": "Python 3",
   "language": "python",
   "name": "python3"
  },
  "language_info": {
   "codemirror_mode": {
    "name": "ipython",
    "version": 3
   },
   "file_extension": ".py",
   "mimetype": "text/x-python",
   "name": "python",
   "nbconvert_exporter": "python",
   "pygments_lexer": "ipython3",
   "version": "3.6.5"
  }
 },
 "nbformat": 4,
 "nbformat_minor": 2
}
