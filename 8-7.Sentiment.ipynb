{
 "cells": [
  {
   "cell_type": "code",
   "execution_count": 1,
   "metadata": {},
   "outputs": [
    {
     "name": "stderr",
     "output_type": "stream",
     "text": [
      "c:\\dev\\python36\\lib\\site-packages\\nltk\\twitter\\__init__.py:20: UserWarning: The twython library has not been installed. Some functionality from the twitter package will not be available.\n",
      "  warnings.warn(\"The twython library has not been installed. \"\n"
     ]
    }
   ],
   "source": [
    "import nltk\n",
    "import nltk.sentiment.sentiment_analyzer\n"
   ]
  },
  {
   "cell_type": "code",
   "execution_count": 9,
   "metadata": {},
   "outputs": [],
   "source": [
    "def wordBasedSentiment():\n",
    "    positive_words = ['love', 'hope', 'joy']\n",
    "    text = 'Rainfall this year brings lot of hope and joy to Farmers.'.split()\n",
    "    analysis = nltk.sentiment.util.extract_unigram_feats(text, positive_words)\n",
    "    print(' -- 단일?개별? 단어 감정 --')\n",
    "    print(analysis)\n"
   ]
  },
  {
   "cell_type": "code",
   "execution_count": 10,
   "metadata": {},
   "outputs": [],
   "source": [
    "def multiWordBasedSentiment():\n",
    "    word_sets = [('heavy', 'rains'), ('flood', 'bengaluru')]\n",
    "    text = 'heavy rains cause flash flooding in bengaluru'.split()\n",
    "    analysis = nltk.sentiment.util.extract_bigram_feats(text, word_sets)\n",
    "    print(' -- 다중 단어 감정 --')\n",
    "    print(analysis)\n"
   ]
  },
  {
   "cell_type": "code",
   "execution_count": 11,
   "metadata": {},
   "outputs": [],
   "source": [
    "def markNegativity():\n",
    "    text = 'Rainfall last year did not bring joy to Farmers'.split()\n",
    "    negation = nltk.sentiment.util.mark_negation(text)\n",
    "    print(' -- 부정적 성향 --')\n",
    "    print(negation)\n"
   ]
  },
  {
   "cell_type": "code",
   "execution_count": 12,
   "metadata": {},
   "outputs": [
    {
     "name": "stdout",
     "output_type": "stream",
     "text": [
      " -- 단일?개별? 단어 감정 --\n",
      "{'contains(love)': False, 'contains(hope)': True, 'contains(joy)': True}\n",
      " -- 다중 단어 감정 --\n",
      "{'contains(heavy - rains)': True, 'contains(flood - bengaluru)': False}\n",
      " -- 부정적 성향 --\n",
      "['Rainfall', 'last', 'year', 'did', 'not', 'bring_NEG', 'joy_NEG', 'to_NEG', 'Farmers_NEG']\n"
     ]
    }
   ],
   "source": [
    "if __name__ == '__main__':\n",
    "    wordBasedSentiment()\n",
    "    multiWordBasedSentiment()\n",
    "    markNegativity()\n"
   ]
  },
  {
   "cell_type": "code",
   "execution_count": null,
   "metadata": {},
   "outputs": [],
   "source": [
    "import nltk\n",
    "import nltk.sentiment.sentiment_analyzer\n",
    "\n",
    "def wordBasedSentiment():\n",
    "    positive_words = ['love', 'hope', 'joy']\n",
    "    text = 'Rainfall this year brings lot of hope and joy to Farmers.'.split()\n",
    "    analysis = nltk.sentiment.util.extract_unigram_feats(text, positive_words)\n",
    "    print(' -- single word sentiment --')\n",
    "    print(analysis)\n",
    "\n",
    "def multiWordBasedSentiment():\n",
    "    word_sets = [('heavy', 'rains'), ('flood', 'bengaluru')]\n",
    "    text = 'heavy rains cause flash flooding in bengaluru'.split()\n",
    "    analysis = nltk.sentiment.util.extract_bigram_feats(text, word_sets)\n",
    "    print(' -- multi word sentiment --')\n",
    "    print(analysis)\n",
    "\n",
    "def markNegativity():\n",
    "    text = 'Rainfall last year did not bring joy to Farmers'.split()\n",
    "    negation = nltk.sentiment.util.mark_negation(text)\n",
    "    print(' -- negativity --')\n",
    "    print(negation)\n",
    "\n",
    "if __name__ == '__main__':\n",
    "    wordBasedSentiment()\n",
    "    multiWordBasedSentiment()\n",
    "    markNegativity()\n"
   ]
  }
 ],
 "metadata": {
  "kernelspec": {
   "display_name": "Python 3",
   "language": "python",
   "name": "python3"
  },
  "language_info": {
   "codemirror_mode": {
    "name": "ipython",
    "version": 3
   },
   "file_extension": ".py",
   "mimetype": "text/x-python",
   "name": "python",
   "nbconvert_exporter": "python",
   "pygments_lexer": "ipython3",
   "version": "3.6.5"
  }
 },
 "nbformat": 4,
 "nbformat_minor": 2
}
