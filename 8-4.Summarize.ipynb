{
 "cells": [
  {
   "cell_type": "code",
   "execution_count": 1,
   "metadata": {},
   "outputs": [
    {
     "name": "stderr",
     "output_type": "stream",
     "text": [
      "c:\\dev\\python36\\lib\\site-packages\\gensim\\utils.py:1197: UserWarning: detected Windows; aliasing chunkize to chunkize_serial\n",
      "  warnings.warn(\"detected Windows; aliasing chunkize to chunkize_serial\")\n"
     ]
    }
   ],
   "source": [
    "from gensim.summarization import summarize\n",
    "from bs4 import BeautifulSoup\n",
    "import requests\n"
   ]
  },
  {
   "cell_type": "code",
   "execution_count": 2,
   "metadata": {},
   "outputs": [],
   "source": [
    "urls = {\n",
    "    'Daff: Unproven Unification of Suffix Trees and Redundancy':\n",
    "    'http://scigen.csail.mit.edu/scicache/610/scimakelatex.21945.none.html',\n",
    "    'CausticIslet: Exploration of Rasterization':\n",
    "    'http://scigen.csail.mit.edu/scicache/790/scimakelatex.1499.none.html'\n",
    "}\n"
   ]
  },
  {
   "cell_type": "code",
   "execution_count": 3,
   "metadata": {},
   "outputs": [
    {
     "name": "stdout",
     "output_type": "stream",
     "text": [
      "논문PAPER URL: http://scigen.csail.mit.edu/scicache/610/scimakelatex.21945.none.html\n",
      "제목TITLE: Daff: Unproven Unification of Suffix Trees and Redundancy\n",
      "생성된 요약GENERATED SUMMARY: \n",
      "\n",
      "논문PAPER URL: http://scigen.csail.mit.edu/scicache/790/scimakelatex.1499.none.html\n",
      "제목TITLE: CausticIslet: Exploration of Rasterization\n",
      "생성된 요약GENERATED SUMMARY: \n",
      "\n"
     ]
    }
   ],
   "source": [
    "for key in urls.keys():\n",
    "    url = urls[key]\n",
    "    r = requests.get(url)\n",
    "    soup = BeautifulSoup(r.text, 'html.parser')\n",
    "    data = soup.get_text()\n",
    "    pos1 = data.find(\"1 Introduction\") + len(\"1 Introduction\")\n",
    "    pos2 = data.find(\"2 Related Work\")\n",
    "    text = data[pos1:pos2].strip()\n",
    "    print(\"논문PAPER URL: {}\".format(url))\n",
    "    print(\"제목TITLE: {}\".format(key))\n",
    "    print(\"생성된 요약GENERATED SUMMARY: {}\".format(summarize(text)))\n",
    "    print()"
   ]
  },
  {
   "cell_type": "code",
   "execution_count": 4,
   "metadata": {},
   "outputs": [
    {
     "name": "stdout",
     "output_type": "stream",
     "text": [
      "PAPER URL: http://scigen.csail.mit.edu/scicache/610/scimakelatex.21945.none.html\n",
      "TITLE: Daff: Unproven Unification of Suffix Trees and Redundancy\n",
      "GENERATED SUMMARY: \n",
      "\n",
      "PAPER URL: http://scigen.csail.mit.edu/scicache/790/scimakelatex.1499.none.html\n",
      "TITLE: CausticIslet: Exploration of Rasterization\n",
      "GENERATED SUMMARY: \n",
      "\n"
     ]
    }
   ],
   "source": [
    "from gensim.summarization import summarize\n",
    "from bs4 import BeautifulSoup\n",
    "import requests\n",
    "\n",
    "#\n",
    "# This recipe uses automatic computer science Paper generation tool from mit.edu\n",
    "# You can generate your own paper by visiting https://pdos.csail.mit.edu/archive/scigen/\n",
    "# and click generate.\n",
    "#\n",
    "# This example needs large amount of text that needs to be available for summary.\n",
    "# So, we are using this paper generation tool and extracting the 'Introduction' section\n",
    "# to do the summary analysis.\n",
    "#\n",
    "\n",
    "urls = {\n",
    "    'Daff: Unproven Unification of Suffix Trees and Redundancy': 'http://scigen.csail.mit.edu/scicache/610/scimakelatex.21945.none.html',\n",
    "    'CausticIslet: Exploration of Rasterization': 'http://scigen.csail.mit.edu/scicache/790/scimakelatex.1499.none.html'\n",
    "}\n",
    "\n",
    "for key in urls.keys():\n",
    "    url = urls[key]\n",
    "    r = requests.get(url)\n",
    "    soup = BeautifulSoup(r.text, 'html.parser')\n",
    "    data = soup.get_text()\n",
    "    pos1 = data.find(\"1  Introduction\") + len(\"1  Introduction\")\n",
    "    pos2 = data.find(\"2  Related Work\")\n",
    "    text = data[pos1:pos2].strip()\n",
    "    print(\"PAPER URL: {}\".format(url))\n",
    "    print(\"TITLE: {}\".format(key))\n",
    "    print(\"GENERATED SUMMARY: {}\".format(summarize(text)))\n",
    "    print()\n"
   ]
  },
  {
   "cell_type": "code",
   "execution_count": null,
   "metadata": {},
   "outputs": [],
   "source": []
  }
 ],
 "metadata": {
  "kernelspec": {
   "display_name": "Python 3",
   "language": "python",
   "name": "python3"
  },
  "language_info": {
   "codemirror_mode": {
    "name": "ipython",
    "version": 3
   },
   "file_extension": ".py",
   "mimetype": "text/x-python",
   "name": "python",
   "nbconvert_exporter": "python",
   "pygments_lexer": "ipython3",
   "version": "3.6.5"
  }
 },
 "nbformat": 4,
 "nbformat_minor": 2
}
