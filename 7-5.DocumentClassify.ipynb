{
 "cells": [
  {
   "cell_type": "code",
   "execution_count": 1,
   "metadata": {},
   "outputs": [],
   "source": [
    "import nltk\n",
    "import random\n",
    "import feedparser\n"
   ]
  },
  {
   "cell_type": "code",
   "execution_count": 2,
   "metadata": {},
   "outputs": [],
   "source": [
    "urls = {\n",
    "    'mlb': 'https://sports.yahoo.com/mlb/rss.xml',\n",
    "    'nfl': 'https://sports.yahoo.com/nfl/rss.xml',\n",
    "}\n"
   ]
  },
  {
   "cell_type": "code",
   "execution_count": 3,
   "metadata": {},
   "outputs": [],
   "source": [
    "feedmap = {}"
   ]
  },
  {
   "cell_type": "code",
   "execution_count": 4,
   "metadata": {},
   "outputs": [],
   "source": [
    "stopwords = nltk.corpus.stopwords.words('english')"
   ]
  },
  {
   "cell_type": "code",
   "execution_count": 5,
   "metadata": {},
   "outputs": [],
   "source": [
    "def featureExtractor(words):\n",
    "    features = {}\n",
    "    for word in words:\n",
    "        if word not in stopwords:\n",
    "            features[\"word({})\".format(word)] = True\n",
    "    return features\n"
   ]
  },
  {
   "cell_type": "code",
   "execution_count": 6,
   "metadata": {},
   "outputs": [],
   "source": [
    "sentences = []"
   ]
  },
  {
   "cell_type": "code",
   "execution_count": 7,
   "metadata": {},
   "outputs": [
    {
     "name": "stdout",
     "output_type": "stream",
     "text": [
      "downloading https://sports.yahoo.com/mlb/rss.xml\n",
      "downloading https://sports.yahoo.com/nfl/rss.xml\n"
     ]
    }
   ],
   "source": [
    "for category in urls.keys():\n",
    "    feedmap[category] = feedparser.parse(urls[category])\n",
    "    print(\"downloading {}\".format(urls[category]))\n",
    "    for entry in feedmap[category]['entries']:\n",
    "        data = entry['summary']\n",
    "        words = data.split()\n",
    "        sentences.append((category, words))"
   ]
  },
  {
   "cell_type": "code",
   "execution_count": 8,
   "metadata": {},
   "outputs": [],
   "source": [
    "featuresets = [(featureExtractor(words), category) for category, words in sentences]\n",
    "random.shuffle(featuresets)\n"
   ]
  },
  {
   "cell_type": "code",
   "execution_count": 9,
   "metadata": {},
   "outputs": [],
   "source": [
    "total = len(featuresets)\n",
    "off = int(total/2)\n",
    "trainset = featuresets[off:]\n",
    "testset = featuresets[:off]\n"
   ]
  },
  {
   "cell_type": "code",
   "execution_count": 10,
   "metadata": {},
   "outputs": [],
   "source": [
    "classifier = nltk.NaiveBayesClassifier.train(trainset)"
   ]
  },
  {
   "cell_type": "code",
   "execution_count": 11,
   "metadata": {},
   "outputs": [
    {
     "name": "stdout",
     "output_type": "stream",
     "text": [
      "0.8235294117647058\n"
     ]
    }
   ],
   "source": [
    "print(nltk.classify.accuracy(classifier, testset))"
   ]
  },
  {
   "cell_type": "code",
   "execution_count": 12,
   "metadata": {},
   "outputs": [
    {
     "name": "stdout",
     "output_type": "stream",
     "text": [
      "Most Informative Features\n",
      "                word(--) = True              mlb : nfl    =      4.4 : 1.0\n",
      "               word(win) = True              mlb : nfl    =      4.4 : 1.0\n",
      "              word(last) = True              mlb : nfl    =      3.6 : 1.0\n",
      "               word(two) = True              mlb : nfl    =      3.6 : 1.0\n",
      "                 word(1) = True              mlb : nfl    =      2.8 : 1.0\n"
     ]
    }
   ],
   "source": [
    "classifier.show_most_informative_features(5)"
   ]
  },
  {
   "cell_type": "code",
   "execution_count": 13,
   "metadata": {},
   "outputs": [
    {
     "name": "stdout",
     "output_type": "stream",
     "text": [
      "mlb -> Season preview: Cardinals start a new era\n",
      "nfl -> Fantasy Football Booms/Busts 2018: The Jacksonville Jaguars\n",
      "nfl -> Pro football players enjoy banter and camaraderie in return to BYU\n",
      "nfl -> If you could take one player from each NFC North rival, who would it be?\n"
     ]
    }
   ],
   "source": [
    "for (i, entry) in enumerate(feedmap['nfl']['entries']):\n",
    "    if i < 4:\n",
    "        features = featureExtractor(entry['title'].split())\n",
    "        category = classifier.classify(features)\n",
    "        print('{} -> {}'.format(category, entry['title']))\n"
   ]
  },
  {
   "cell_type": "code",
   "execution_count": 15,
   "metadata": {},
   "outputs": [
    {
     "name": "stdout",
     "output_type": "stream",
     "text": [
      "downloading https://sports.yahoo.com/mlb/rss.xml\n",
      "downloading https://sports.yahoo.com/nfl/rss.xml\n",
      "0.7843137254901961\n",
      "Most Informative Features\n",
      "               word(win) = True              mlb : nfl    =      3.4 : 1.0\n",
      "               word(two) = True              mlb : nfl    =      3.4 : 1.0\n",
      "                 word(I) = True              nfl : mlb    =      2.7 : 1.0\n",
      "              word(2018) = True              nfl : mlb    =      2.7 : 1.0\n",
      "           word(results) = True              mlb : nfl    =      2.6 : 1.0\n",
      "nfl -> Not long after narrowly missing out on a Super Bowl, Arizona starting over.\n",
      "nfl -> As the mercury rises and we inch closer to the open of training camps, our resident fantasy football sickos, Brad Evans and Liz Loza, will profile their favorite booms/busts of every NFL team.  Name your favorite Jags WR at the following price point: Marqise Lee (112.7 ADP), Dede Westbrook (174.4), Keelan\n",
      "nfl -> One of the biggest laughs of Friday's 2018 BYU football Media Day came during the “Cougars in the NFL” program that featured some big personalities. Former BYU stars John Denney (long snapper for the Miami Dolphins), Bronson Kaufusi (defensive end for the Baltimore Ravens), Jamaal Williams (running\n",
      "nfl -> This is another one of those things that's been going around social media for the past few days, so I thought I'd put it out there for folks to think about. We know that the Minnesota Vikings have a ton of talent, and that's not just our own biases at work. . .we've seen a lot of folks\n"
     ]
    }
   ],
   "source": [
    "import nltk\n",
    "import random\n",
    "import feedparser\n",
    "\n",
    "urls = {\n",
    "    'mlb': 'https://sports.yahoo.com/mlb/rss.xml',\n",
    "    'nfl': 'https://sports.yahoo.com/nfl/rss.xml',\n",
    "}\n",
    "\n",
    "feedmap = {}\n",
    "stopwords = nltk.corpus.stopwords.words('english')\n",
    "\n",
    "def featureExtractor(words):\n",
    "    features = {}\n",
    "    for word in words:\n",
    "        if word not in stopwords:\n",
    "            features[\"word({})\".format(word)] = True\n",
    "    return features\n",
    "\n",
    "sentences = []\n",
    "\n",
    "for category in urls.keys():\n",
    "    feedmap[category] = feedparser.parse(urls[category])\n",
    "    print(\"downloading {}\".format(urls[category]))\n",
    "    for entry in feedmap[category]['entries']:\n",
    "        data = entry['summary']\n",
    "        words = data.split()\n",
    "        sentences.append((category, words))\n",
    "\n",
    "featuresets = [(featureExtractor(words), category) for category, words in sentences]\n",
    "random.shuffle(featuresets)\n",
    "\n",
    "total = len(featuresets)\n",
    "off = int(total/2)\n",
    "trainset = featuresets[off:]\n",
    "testset = featuresets[:off]\n",
    "\n",
    "classifier = nltk.NaiveBayesClassifier.train(trainset)\n",
    "\n",
    "print(nltk.classify.accuracy(classifier, testset))\n",
    "\n",
    "classifier.show_most_informative_features(5)\n",
    "for (i, entry) in enumerate(feedmap['nfl']['entries']):\n",
    "    if i < 4:\n",
    "        features = featureExtractor(entry['title'].split())\n",
    "        category = classifier.classify(features)\n",
    "        print('{} -> {}'.format(category, entry['summary']))\n",
    "\n"
   ]
  },
  {
   "cell_type": "code",
   "execution_count": null,
   "metadata": {},
   "outputs": [],
   "source": []
  }
 ],
 "metadata": {
  "kernelspec": {
   "display_name": "Python 3",
   "language": "python",
   "name": "python3"
  },
  "language_info": {
   "codemirror_mode": {
    "name": "ipython",
    "version": 3
   },
   "file_extension": ".py",
   "mimetype": "text/x-python",
   "name": "python",
   "nbconvert_exporter": "python",
   "pygments_lexer": "ipython3",
   "version": "3.6.5"
  }
 },
 "nbformat": 4,
 "nbformat_minor": 2
}
