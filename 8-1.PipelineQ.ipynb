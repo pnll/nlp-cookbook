{
 "cells": [
  {
   "cell_type": "code",
   "execution_count": 1,
   "metadata": {},
   "outputs": [],
   "source": [
    "import nltk\n",
    "import threading\n",
    "import queue\n",
    "import feedparser\n",
    "import uuid\n"
   ]
  },
  {
   "cell_type": "code",
   "execution_count": 2,
   "metadata": {},
   "outputs": [],
   "source": [
    "threads = []"
   ]
  },
  {
   "cell_type": "code",
   "execution_count": 3,
   "metadata": {},
   "outputs": [],
   "source": [
    "queues = [queue.Queue(), queue.Queue()]"
   ]
  },
  {
   "cell_type": "code",
   "execution_count": 4,
   "metadata": {},
   "outputs": [],
   "source": [
    "def extractWords():\n",
    "    url = 'https://timesofindia.indiatimes.com/rssfeeds/1081479906.cms'\n",
    "    feed = feedparser.parse(url)\n",
    "    for entry in feed['entries'][:5]:\n",
    "        text = entry['title']\n",
    "        if 'ex' in text:\n",
    "            continue\n",
    "        words = nltk.word_tokenize(text)\n",
    "        data = {'uuid': uuid.uuid4(), 'input': words}\n",
    "        queues[0].put(data, True)\n",
    "        print(\">> {} : {}\".format(data['uuid'], text))"
   ]
  },
  {
   "cell_type": "code",
   "execution_count": 6,
   "metadata": {},
   "outputs": [],
   "source": [
    "def extractPOS():\n",
    "    while True:\n",
    "        if queues[0].empty():\n",
    "            break\n",
    "        else:\n",
    "            data = queues[0].get()\n",
    "            words = data['input']\n",
    "            postags = nltk.pos_tag(words)\n",
    "            queues[0].task_done()\n",
    "            queues[1].put({'uuid': data['uuid'], 'input': postags}, True)\n",
    "\n"
   ]
  },
  {
   "cell_type": "code",
   "execution_count": 8,
   "metadata": {},
   "outputs": [],
   "source": [
    "def extractNE():\n",
    "    while True:\n",
    "        if queues[1].empty():\n",
    "            break\n",
    "        else:\n",
    "            data = queues[1].get()\n",
    "            postags = data['input']\n",
    "            queues[1].task_done()\n",
    "            chunks = nltk.ne_chunk(postags, binary=False)\n",
    "            print(\" << {} : \".format(data['uuid']), end = '')\n",
    "            for path in chunks:\n",
    "                try:\n",
    "                    label = path.label()\n",
    "                    print(path, end=', ')\n",
    "                except:\n",
    "                    pass\n",
    "            print()"
   ]
  },
  {
   "cell_type": "code",
   "execution_count": 9,
   "metadata": {},
   "outputs": [],
   "source": [
    "def runProgram():\n",
    "    e = threading.Thread(target=extractWords())\n",
    "    e.start()\n",
    "    threads.append(e)\n",
    "    \n",
    "    p = threading.Thread(target=extractPOS())\n",
    "    p.start()\n",
    "    threads.append(p)\n",
    "\n",
    "    n = threading.Thread(target=extractNE())\n",
    "    n.start()\n",
    "    threads.append(n)\n",
    "    \n",
    "    queues[0].join()\n",
    "    queues[1].join()\n",
    "    \n",
    "    for t in threads:\n",
    "        t.join()\n"
   ]
  },
  {
   "cell_type": "code",
   "execution_count": 10,
   "metadata": {},
   "outputs": [
    {
     "name": "stdout",
     "output_type": "stream",
     "text": [
      ">> 45782902-75cf-4a05-8398-215f23ea7088 : Mahanirvan is a marvel; a sine qua non for theatre buffs\n",
      ">> 73ac0bd2-3dd7-408f-9690-ef430009690f : Salman's 'Race 3' continues to impress\n",
      ">> c7b38704-e848-4f08-85f2-390b311136d9 : 'Sanju' new song: A.R. Rahman's 'Ruby Ruby'\n",
      ">> c7c747a1-9686-4c17-bc6c-725c913a6129 : Here's when the 'Gold' trailer will be out\n",
      ">> bd52de2e-a394-4e1b-948e-20aeb025c9dc : Akshay looks intense in new 'Gold' still\n",
      " << 45782902-75cf-4a05-8398-215f23ea7088 : (GPE Mahanirvan/NNP), \n",
      " << 73ac0bd2-3dd7-408f-9690-ef430009690f : (PERSON Salman/NNP), \n",
      " << c7b38704-e848-4f08-85f2-390b311136d9 : (PERSON Rahman/NNP), \n",
      " << c7c747a1-9686-4c17-bc6c-725c913a6129 : \n",
      " << bd52de2e-a394-4e1b-948e-20aeb025c9dc : (GPE Akshay/NNP), \n"
     ]
    }
   ],
   "source": [
    "if __name__ == '__main__':\n",
    "    runProgram()\n"
   ]
  },
  {
   "cell_type": "code",
   "execution_count": 11,
   "metadata": {},
   "outputs": [
    {
     "name": "stdout",
     "output_type": "stream",
     "text": [
      ">> b06c11dd-7c9b-4803-b849-ce0820b76815 : Mahanirvan is a marvel; a sine qua non for theatre buffs\n",
      ">> 01c5826d-a407-40e6-8fd3-8b1ecab50f0a : Salman's 'Race 3' continues to impress\n",
      ">> 61aaacb4-3548-4ea5-97d8-83f4250c56cf : 'Sanju' new song: A.R. Rahman's 'Ruby Ruby'\n",
      ">> 4a3e4e3c-bedd-4839-878d-dfab49d17896 : Here's when the 'Gold' trailer will be out\n",
      ">> 5c551ab0-b28b-4d18-9530-92869bda7b69 : Akshay looks intense in new 'Gold' still\n",
      "  << b06c11dd-7c9b-4803-b849-ce0820b76815 : (GPE Mahanirvan/NNP), \n",
      "  << 01c5826d-a407-40e6-8fd3-8b1ecab50f0a : (PERSON Salman/NNP), \n",
      "  << 61aaacb4-3548-4ea5-97d8-83f4250c56cf : (PERSON Rahman/NNP), \n",
      "  << 4a3e4e3c-bedd-4839-878d-dfab49d17896 : \n",
      "  << 5c551ab0-b28b-4d18-9530-92869bda7b69 : (GPE Akshay/NNP), \n"
     ]
    }
   ],
   "source": [
    "import nltk\n",
    "import threading\n",
    "import queue\n",
    "import feedparser\n",
    "import uuid\n",
    "\n",
    "threads = []\n",
    "queues = [queue.Queue(), queue.Queue()]\n",
    "\n",
    "def extractWords():\n",
    "    url = 'https://timesofindia.indiatimes.com/rssfeeds/1081479906.cms'\n",
    "    feed = feedparser.parse(url)\n",
    "    for entry in feed['entries'][:5]:\n",
    "        text = entry['title']\n",
    "        if 'ex' in text:\n",
    "            continue\n",
    "        words = nltk.word_tokenize(text)\n",
    "        data = {'uuid': uuid.uuid4(), 'input': words}\n",
    "        queues[0].put(data, True)\n",
    "        print(\">> {} : {}\".format(data['uuid'], text))\n",
    "\n",
    "def extractPOS():\n",
    "    while True:\n",
    "        if queues[0].empty():\n",
    "            break\n",
    "        else:\n",
    "            data = queues[0].get()\n",
    "            words = data['input']\n",
    "            postags = nltk.pos_tag(words)\n",
    "            queues[0].task_done()\n",
    "            queues[1].put({'uuid': data['uuid'], 'input': postags}, True)\n",
    "\n",
    "def extractNE():\n",
    "    while True:\n",
    "        if queues[1].empty():\n",
    "            break\n",
    "        else:\n",
    "            data = queues[1].get()\n",
    "            postags = data['input']\n",
    "            queues[1].task_done()\n",
    "            chunks = nltk.ne_chunk(postags, binary=False)\n",
    "            print(\"  << {} : \".format(data['uuid']), end = '')\n",
    "            for path in chunks:\n",
    "                try:\n",
    "                    label = path.label()\n",
    "                    print(path, end=', ')\n",
    "                except:\n",
    "                    pass\n",
    "            print()\n",
    "\n",
    "def runProgram():\n",
    "    e = threading.Thread(target=extractWords())\n",
    "    e.start()\n",
    "    threads.append(e)\n",
    "\n",
    "    p = threading.Thread(target=extractPOS())\n",
    "    p.start()\n",
    "    threads.append(p)\n",
    "\n",
    "    n = threading.Thread(target=extractNE())\n",
    "    n.start()\n",
    "    threads.append(n)\n",
    "\n",
    "    queues[0].join()\n",
    "    queues[1].join()\n",
    "\n",
    "    for t in threads:\n",
    "        t.join()\n",
    "\n",
    "if __name__ == '__main__':\n",
    "    runProgram()\n"
   ]
  },
  {
   "cell_type": "code",
   "execution_count": null,
   "metadata": {},
   "outputs": [],
   "source": []
  }
 ],
 "metadata": {
  "kernelspec": {
   "display_name": "Python 3",
   "language": "python",
   "name": "python3"
  },
  "language_info": {
   "codemirror_mode": {
    "name": "ipython",
    "version": 3
   },
   "file_extension": ".py",
   "mimetype": "text/x-python",
   "name": "python",
   "nbconvert_exporter": "python",
   "pygments_lexer": "ipython3",
   "version": "3.6.5"
  }
 },
 "nbformat": 4,
 "nbformat_minor": 2
}
