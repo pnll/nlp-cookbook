{
 "cells": [
  {
   "cell_type": "code",
   "execution_count": 1,
   "metadata": {},
   "outputs": [],
   "source": [
    "import re"
   ]
  },
  {
   "cell_type": "code",
   "execution_count": 2,
   "metadata": {},
   "outputs": [],
   "source": [
    "def text_match(text, patterns):\n",
    "    if re.search(patterns, text):\n",
    "        return '일치하는 항목을 찾았습니다!'\n",
    "    else:\n",
    "        return('일치하지 않음!')"
   ]
  },
  {
   "cell_type": "code",
   "execution_count": 3,
   "metadata": {},
   "outputs": [
    {
     "name": "stdout",
     "output_type": "stream",
     "text": [
      "테스트 패턴은 다음으로 시작하고 끝납니다.\n",
      "일치하는 항목을 찾았습니다!\n"
     ]
    }
   ],
   "source": [
    "print(\"테스트 패턴은 다음으로 시작하고 끝납니다.\")\n",
    "print(text_match(\"abbc\", \"^a.*c$\"))"
   ]
  },
  {
   "cell_type": "code",
   "execution_count": 4,
   "metadata": {},
   "outputs": [
    {
     "name": "stdout",
     "output_type": "stream",
     "text": [
      "단어로 시작합니다.\n",
      "일치하는 항목을 찾았습니다!\n"
     ]
    }
   ],
   "source": [
    "print(\"단어로 시작합니다.\")\n",
    "print(text_match(\"Tuffy eats pie, Loki eats peas!\", \"^\\w+\"))"
   ]
  },
  {
   "cell_type": "code",
   "execution_count": 5,
   "metadata": {},
   "outputs": [
    {
     "name": "stdout",
     "output_type": "stream",
     "text": [
      "단어와 선택적 구두점으로 끝납니다.\n",
      "일치하는 항목을 찾았습니다!\n"
     ]
    }
   ],
   "source": [
    "print(\"단어와 선택적 구두점으로 끝납니다.\")\n",
    "print(text_match(\"Tuffy eats pie, Loki eats peas!\", \"\\w+\\S*?$\"))"
   ]
  },
  {
   "cell_type": "code",
   "execution_count": 6,
   "metadata": {},
   "outputs": [
    {
     "name": "stdout",
     "output_type": "stream",
     "text": [
      "단어의 시작이나 끝이 아닌 문자가 포함된 단어 찾기\n",
      "일치하는 항목을 찾았습니다!\n"
     ]
    }
   ],
   "source": [
    "print(\"단어의 시작이나 끝이 아닌 문자가 포함된 단어 찾기\")\n",
    "print(text_match(\"Tuffy eats pie, Loki eats peas!\", \"\\Bu\\B\"))"
   ]
  },
  {
   "cell_type": "code",
   "execution_count": 7,
   "metadata": {},
   "outputs": [
    {
     "name": "stdout",
     "output_type": "stream",
     "text": [
      "Pattern to test start and end with\n",
      "Found a match!\n",
      "Begin with a word\n",
      "Found a match!\n",
      "End with a word and optional punctuation\n",
      "Found a match!\n",
      "Finding a word which contains character, not start or end of the word\n",
      "Found a match!\n"
     ]
    }
   ],
   "source": [
    "import re\n",
    "\n",
    "def text_match(text, patterns):\n",
    "        if re.search(patterns,  text):\n",
    "                return 'Found a match!'\n",
    "        else:\n",
    "                return('Not matched!')\n",
    "\n",
    "print(\"Pattern to test start and end with\")\n",
    "print(text_match(\"abbc\", \"^a.*c$\"))\n",
    "\n",
    "print(\"Begin with a word\")\n",
    "print(text_match(\"Tuffy eats pie, Loki eats peas!\", \"^\\w+\"))\n",
    "\n",
    "print(\"End with a word and optional punctuation\")\n",
    "print(text_match(\"Tuffy eats pie, Loki eats peas!\", \"\\w+\\S*?$\"))\n",
    "\n",
    "print(\"Finding a word which contains character, not start or end of the word\")\n",
    "print(text_match(\"Tuffy eats pie, Loki eats peas!\", \"\\Bu\\B\"))"
   ]
  },
  {
   "cell_type": "code",
   "execution_count": null,
   "metadata": {},
   "outputs": [],
   "source": []
  }
 ],
 "metadata": {
  "kernelspec": {
   "display_name": "Python 3",
   "language": "python",
   "name": "python3"
  },
  "language_info": {
   "codemirror_mode": {
    "name": "ipython",
    "version": 3
   },
   "file_extension": ".py",
   "mimetype": "text/x-python",
   "name": "python",
   "nbconvert_exporter": "python",
   "pygments_lexer": "ipython3",
   "version": "3.6.5"
  }
 },
 "nbformat": 4,
 "nbformat_minor": 2
}
