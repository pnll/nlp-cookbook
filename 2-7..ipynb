{
 "cells": [
  {
   "cell_type": "code",
   "execution_count": 1,
   "metadata": {},
   "outputs": [],
   "source": [
    "from bs4 import BeautifulSoup"
   ]
  },
  {
   "cell_type": "code",
   "execution_count": 2,
   "metadata": {},
   "outputs": [],
   "source": [
    "html_doc = open('sample-html.html', 'r').read()\n",
    "soup = BeautifulSoup(html_doc, 'html.parser')"
   ]
  },
  {
   "cell_type": "code",
   "execution_count": 3,
   "metadata": {},
   "outputs": [
    {
     "name": "stdout",
     "output_type": "stream",
     "text": [
      "\n",
      "\n",
      "Full text HTML Stripped:\n",
      "\n",
      "\n",
      "\n",
      "Sample Web Page\n",
      "\n",
      "\n",
      "\n",
      "Main heading\n",
      "This is a very simple HTML document\n",
      "Improve your image by including an image. \n",
      "\n",
      "Add a link to your favorite Web site.\n",
      " This is a new sentence without a paragraph break, in bold italics.\n",
      "\n",
      "\n"
     ]
    }
   ],
   "source": [
    "print('\\n\\nFull text HTML Stripped:')\n",
    "print(soup.get_text())\n"
   ]
  },
  {
   "cell_type": "code",
   "execution_count": 4,
   "metadata": {},
   "outputs": [
    {
     "name": "stdout",
     "output_type": "stream",
     "text": [
      "Accessing the <title> tag : <title>Sample Web Page</title>\n"
     ]
    }
   ],
   "source": [
    "print('Accessing the <title> tag :', end=' ')\n",
    "print(soup.title)\n"
   ]
  },
  {
   "cell_type": "code",
   "execution_count": 5,
   "metadata": {},
   "outputs": [
    {
     "name": "stdout",
     "output_type": "stream",
     "text": [
      "Accessing the text of <H1> tag : Main heading\n"
     ]
    }
   ],
   "source": [
    "print('Accessing the text of <H1> tag :', end=' ')\n",
    "print(soup.h1.string)\n"
   ]
  },
  {
   "cell_type": "code",
   "execution_count": 6,
   "metadata": {},
   "outputs": [
    {
     "name": "stdout",
     "output_type": "stream",
     "text": [
      "Accessing property of <img> tag : A Great HTML Resource\n"
     ]
    }
   ],
   "source": [
    "print('Accessing property of <img> tag :', end=' ')\n",
    "print(soup.img['alt'])\n"
   ]
  },
  {
   "cell_type": "code",
   "execution_count": 7,
   "metadata": {},
   "outputs": [
    {
     "name": "stdout",
     "output_type": "stream",
     "text": [
      "\n",
      "Accessing all occurences of the <p> tag :\n",
      "This is a very simple HTML document\n",
      "Improve your image by including an image. \n",
      "None\n"
     ]
    }
   ],
   "source": [
    "print('\\nAccessing all occurences of the <p> tag :')\n",
    "for p in soup.find_all('p'):\n",
    "    print(p.string)\n"
   ]
  },
  {
   "cell_type": "code",
   "execution_count": 8,
   "metadata": {},
   "outputs": [
    {
     "name": "stdout",
     "output_type": "stream",
     "text": [
      "Full text HTML Stripped:\n",
      "\n",
      "\n",
      "\n",
      "Sample Web Page\n",
      "\n",
      "\n",
      "\n",
      "Main heading\n",
      "This is a very simple HTML document\n",
      "Improve your image by including an image. \n",
      "\n",
      "Add a link to your favorite Web site.\n",
      " This is a new sentence without a paragraph break, in bold italics.\n",
      "\n",
      "\n",
      "Accessing the <title> tag : <title>Sample Web Page</title>\n",
      "Accessing the text of <H1> tag : Main heading\n",
      "Accessing property of <img> tag : A Great HTML Resource\n",
      "\n",
      "Accessing all occurences of the <p> tag :\n",
      "This is a very simple HTML document\n",
      "Improve your image by including an image. \n",
      "None\n"
     ]
    }
   ],
   "source": [
    "from bs4 import BeautifulSoup\n",
    "\n",
    "html_doc = open('sample-html.html', 'r').read()\n",
    "soup = BeautifulSoup(html_doc, 'html.parser')\n",
    "\n",
    "print('Full text HTML Stripped:')\n",
    "print(soup.get_text())\n",
    "\n",
    "print('Accessing the <title> tag :', end=' ')\n",
    "print(soup.title)\n",
    "\n",
    "print('Accessing the text of <H1> tag :', end=' ')\n",
    "print(soup.h1.string)\n",
    "\n",
    "print('Accessing property of <img> tag :', end=' ')\n",
    "print(soup.img['alt'])\n",
    "\n",
    "print('\\nAccessing all occurences of the <p> tag :')\n",
    "for p in soup.find_all('p'):\n",
    "    print(p.string)"
   ]
  },
  {
   "cell_type": "code",
   "execution_count": null,
   "metadata": {},
   "outputs": [],
   "source": []
  }
 ],
 "metadata": {
  "kernelspec": {
   "display_name": "Python 3",
   "language": "python",
   "name": "python3"
  },
  "language_info": {
   "codemirror_mode": {
    "name": "ipython",
    "version": 3
   },
   "file_extension": ".py",
   "mimetype": "text/x-python",
   "name": "python",
   "nbconvert_exporter": "python",
   "pygments_lexer": "ipython3",
   "version": "3.6.5"
  }
 },
 "nbformat": 4,
 "nbformat_minor": 2
}
