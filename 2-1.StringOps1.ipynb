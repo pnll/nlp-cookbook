{
 "cells": [
  {
   "cell_type": "code",
   "execution_count": 1,
   "metadata": {},
   "outputs": [],
   "source": [
    "namesList = ['Tuffy','Ali','Nysha','Tim' ]\n",
    "sentence = 'My dog sleeps on sofa'"
   ]
  },
  {
   "cell_type": "code",
   "execution_count": 2,
   "metadata": {},
   "outputs": [
    {
     "name": "stdout",
     "output_type": "stream",
     "text": [
      "<class 'str'> : Tuffy;Ali;Nysha;Tim\n"
     ]
    }
   ],
   "source": [
    "names = ';'.join(namesList)\n",
    "print(type(names), ':', names)"
   ]
  },
  {
   "cell_type": "code",
   "execution_count": 3,
   "metadata": {},
   "outputs": [
    {
     "name": "stdout",
     "output_type": "stream",
     "text": [
      "<class 'list'> : ['My', 'dog', 'sleeps', 'on', 'sofa']\n"
     ]
    }
   ],
   "source": [
    "wordList = sentence.split(' ')\n",
    "print((type(wordList)), ':', wordList)"
   ]
  },
  {
   "cell_type": "code",
   "execution_count": 6,
   "metadata": {},
   "outputs": [
    {
     "name": "stdout",
     "output_type": "stream",
     "text": [
      "Text Additions : ganehsaganeshaganesha\n",
      "Text Multiplication : ganeshaganesha\n"
     ]
    }
   ],
   "source": [
    "additionExample = 'ganehsa' + 'ganesha' + 'ganesha'\n",
    "multiplicationExample = 'ganesha' * 2\n",
    "print('Text Additions :', additionExample)\n",
    "print('Text Multiplication :', multiplicationExample)"
   ]
  },
  {
   "cell_type": "code",
   "execution_count": 7,
   "metadata": {},
   "outputs": [
    {
     "name": "stdout",
     "output_type": "stream",
     "text": [
      "y\n",
      "L\n"
     ]
    }
   ],
   "source": [
    "str = 'Python NLTK'\n",
    "print(str[1])\n",
    "print(str[-3])"
   ]
  },
  {
   "cell_type": "code",
   "execution_count": 8,
   "metadata": {},
   "outputs": [
    {
     "name": "stdout",
     "output_type": "stream",
     "text": [
      "<class 'str'> : Tuffy;Ali;Nysha;Tim\n",
      "<class 'list'> : ['My', 'dog', 'sleeps', 'on', 'sofa']\n",
      "Text Additions : ganehsaganeshaganesha\n",
      "Text Multiplication : ganeshaganesha\n",
      "y\n",
      "L\n"
     ]
    }
   ],
   "source": [
    "namesList = ['Tuffy','Ali','Nysha','Tim' ]\n",
    "sentence = 'My dog sleeps on sofa'\n",
    "\n",
    "names = ';'.join(namesList)\n",
    "print(type(names), ':', names)\n",
    "wordList = sentence.split(' ')\n",
    "print((type(wordList)), ':', wordList)\n",
    "\n",
    "additionExample = 'ganehsa' + 'ganesha' + 'ganesha'\n",
    "multiplicationExample = 'ganesha' * 2\n",
    "print('Text Additions :', additionExample)\n",
    "print('Text Multiplication :', multiplicationExample)\n",
    "\n",
    "str = 'Python NLTK'\n",
    "print(str[1])\n",
    "print(str[-3])"
   ]
  },
  {
   "cell_type": "code",
   "execution_count": null,
   "metadata": {},
   "outputs": [],
   "source": []
  }
 ],
 "metadata": {
  "kernelspec": {
   "display_name": "Python 3",
   "language": "python",
   "name": "python3"
  },
  "language_info": {
   "codemirror_mode": {
    "name": "ipython",
    "version": 3
   },
   "file_extension": ".py",
   "mimetype": "text/x-python",
   "name": "python",
   "nbconvert_exporter": "python",
   "pygments_lexer": "ipython3",
   "version": "3.6.5"
  }
 },
 "nbformat": 4,
 "nbformat_minor": 2
}
