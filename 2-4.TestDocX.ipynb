{
 "cells": [
  {
   "cell_type": "code",
   "execution_count": 2,
   "metadata": {},
   "outputs": [],
   "source": [
    "import docx\n",
    "import word"
   ]
  },
  {
   "cell_type": "code",
   "execution_count": 4,
   "metadata": {},
   "outputs": [
    {
     "name": "stdout",
     "output_type": "stream",
     "text": [
      "Document in full :\n",
      " This is a sample PDF document with some text in BOLD, some in ITALIC and some underlined. We are also embedding a Title down below.\n",
      "This is my TITLE.\n",
      "This is my third paragraph.\n"
     ]
    }
   ],
   "source": [
    "docName = 'sample-one-line.docx'\n",
    "print('Document in full :\\n',word.getTextWord(docName))"
   ]
  },
  {
   "cell_type": "code",
   "execution_count": 5,
   "metadata": {},
   "outputs": [
    {
     "name": "stdout",
     "output_type": "stream",
     "text": [
      "Number of paragraphs : 3\n",
      "Paragraph 2: This is my TITLE.\n",
      "Paragraph 2 style: _ParagraphStyle('Title') id: 388822919264\n"
     ]
    }
   ],
   "source": [
    "doc = docx.Document(docName)\n",
    "print('Number of paragraphs :',len(doc.paragraphs))\n",
    "print('Paragraph 2:',doc.paragraphs[1].text)\n",
    "print('Paragraph 2 style:',doc.paragraphs[1].style)"
   ]
  },
  {
   "cell_type": "code",
   "execution_count": 6,
   "metadata": {},
   "outputs": [
    {
     "name": "stdout",
     "output_type": "stream",
     "text": [
      "Paragraph 1: This is a sample PDF document with some text in BOLD, some in ITALIC and some underlined. We are also embedding a Title down below.\n",
      "Number of runs in paragraph 1: 8\n",
      "Run 0 : This is a sample PDF document with \n",
      "Run 1 : some text in BOLD\n",
      "Run 2 : , \n",
      "Run 3 : some in ITALIC\n",
      "Run 4 :  and \n",
      "Run 5 : some underlined.\n",
      "Run 6 :  We are also embedding a Title down below\n",
      "Run 7 : .\n"
     ]
    }
   ],
   "source": [
    "print('Paragraph 1:',doc.paragraphs[0].text)\n",
    "print('Number of runs in paragraph 1:',len(doc.paragraphs[0].runs))\n",
    "for idx, run in enumerate(doc.paragraphs[0].runs):\n",
    "    print('Run %s : %s' %(idx,run.text))"
   ]
  },
  {
   "cell_type": "code",
   "execution_count": 7,
   "metadata": {},
   "outputs": [
    {
     "name": "stdout",
     "output_type": "stream",
     "text": [
      "is Run 0 underlined: True\n",
      "is Run 2 bold: True\n",
      "is Run 7 italic: True\n"
     ]
    }
   ],
   "source": [
    "print('is Run 0 underlined:',doc.paragraphs[0].runs[5].underline)\n",
    "print('is Run 2 bold:',doc.paragraphs[0].runs[1].bold)\n",
    "print('is Run 7 italic:',doc.paragraphs[0].runs[3].italic)"
   ]
  },
  {
   "cell_type": "code",
   "execution_count": 8,
   "metadata": {},
   "outputs": [
    {
     "name": "stdout",
     "output_type": "stream",
     "text": [
      "Document in full :\n",
      " This is a sample PDF document with some text in BOLD, some in ITALIC and some underlined. We are also embedding a Title down below.\n",
      "This is my TITLE.\n",
      "This is my third paragraph.\n",
      "Number of paragraphs : 3\n",
      "Paragraph 2: This is my TITLE.\n",
      "Paragraph 2 style: _ParagraphStyle('Title') id: 388823060040\n",
      "Paragraph 1: This is a sample PDF document with some text in BOLD, some in ITALIC and some underlined. We are also embedding a Title down below.\n",
      "Number of runs in paragraph 1: 8\n",
      "Run 0 : This is a sample PDF document with \n",
      "Run 1 : some text in BOLD\n",
      "Run 2 : , \n",
      "Run 3 : some in ITALIC\n",
      "Run 4 :  and \n",
      "Run 5 : some underlined.\n",
      "Run 6 :  We are also embedding a Title down below\n",
      "Run 7 : .\n",
      "is Run 0 underlined: True\n",
      "is Run 2 bold: True\n",
      "is Run 7 italic: True\n"
     ]
    }
   ],
   "source": [
    "import docx\n",
    "import word\n",
    "\n",
    "docName = 'sample-one-line.docx'\n",
    "print('Document in full :\\n',word.getTextWord(docName))\n",
    "\n",
    "doc = docx.Document(docName)\n",
    "print('Number of paragraphs :',len(doc.paragraphs))\n",
    "print('Paragraph 2:',doc.paragraphs[1].text)\n",
    "print('Paragraph 2 style:',doc.paragraphs[1].style)\n",
    "print('Paragraph 1:',doc.paragraphs[0].text)\n",
    "print('Number of runs in paragraph 1:',len(doc.paragraphs[0].runs))\n",
    "for idx, run in enumerate(doc.paragraphs[0].runs):\n",
    "    print('Run %s : %s' %(idx,run.text))\n",
    "\n",
    "print('is Run 0 underlined:',doc.paragraphs[0].runs[5].underline)\n",
    "print('is Run 2 bold:',doc.paragraphs[0].runs[1].bold)\n",
    "print('is Run 7 italic:',doc.paragraphs[0].runs[3].italic)"
   ]
  },
  {
   "cell_type": "code",
   "execution_count": null,
   "metadata": {},
   "outputs": [],
   "source": []
  }
 ],
 "metadata": {
  "kernelspec": {
   "display_name": "Python 3",
   "language": "python",
   "name": "python3"
  },
  "language_info": {
   "codemirror_mode": {
    "name": "ipython",
    "version": 3
   },
   "file_extension": ".py",
   "mimetype": "text/x-python",
   "name": "python",
   "nbconvert_exporter": "python",
   "pygments_lexer": "ipython3",
   "version": "3.6.5"
  }
 },
 "nbformat": 4,
 "nbformat_minor": 2
}
