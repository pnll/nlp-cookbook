{
 "cells": [
  {
   "cell_type": "code",
   "execution_count": 1,
   "metadata": {},
   "outputs": [],
   "source": [
    "story1 = \"\"\"In a far away kingdom, there was a river. This river\n",
    "was home to many golden swans. The swans spent most of their time\n",
    "on the banks of the river. Every six months, the swans would leave\n",
    "a golden feather as a fee for using the lake. The soldiers of the\n",
    "kingdom would collect the feathers and deposit them in the royal\n",
    "treasury.\n",
    "One day, a homeless bird saw the river. \"The water in this river\n",
    "seems so cool and soothing. I will make my home here,\" thought the\n",
    "bird.\n",
    "As soon as the bird settled down near the river, the golden swans\n",
    "noticed her. They came shouting. \"This river belongs to us. We pay\n",
    "a golden feather to the King to use this river. You can not live\n",
    "here.\"\n",
    "\"I am homeless, brothers. I too will pay the rent. Please give me\n",
    "shelter,\" the bird pleaded. \"How will you pay the rent? You do not\n",
    "have golden feathers,\" said the swans laughing. They further added,\n",
    "\"Stop dreaming and leave once.\" The humble bird pleaded many times.\n",
    "But the arrogant swans drove the bird away.\n",
    "\"I will teach them a lesson!\" decided the humiliated bird.\n",
    "She went to the King and said, \"O King! The swans in your river are\n",
    "impolite and unkind. I begged for shelter but they said that they\n",
    "had purchased the river with golden feathers.\"\n",
    "The King was angry with the arrogant swans for having insulted the\n",
    "homeless bird. He ordered his soldiers to bring the arrogant swans\n",
    "to his court. In no time, all the golden swans were brought to the\n",
    "King’s court.\n",
    "\"Do you think the royal treasury depends upon your golden feathers?\n",
    "You can not decide who lives by the river. Leave the river at once\n",
    "or you all will be beheaded!\" shouted the King.\n",
    "The swans shivered with fear on hearing the King. They flew away\n",
    "never to return. The bird built her home near the river and lived\n",
    "there happily forever. The bird gave shelter to all other birds in\n",
    "the river. \"\"\"\n",
    "story2 = \"\"\"Long time ago, there lived a King. He was lazy and\n",
    "liked all the comforts of life. He never carried out his duties as\n",
    "a King. “Our King does not take care of our needs. He also ignores\n",
    "the affairs of his kingdom.\" The people complained.\n",
    "One day, the King went into the forest to hunt. After having\n",
    "wandered for quite sometime, he became thirsty. To his relief, he\n",
    "spotted a lake. As he was drinking water, he suddenly saw a golden\n",
    "swan come out of the lake and perch on a stone. “Oh! A golden swan.\n",
    "I must capture it,\" thought the King.\n",
    "But as soon as he held his bow up, the swan disappeared. And the\n",
    "King heard a voice, “I am the Golden Swan. If you want to capture\n",
    "me, you must come to heaven.\"\n",
    "Surprised, the King said, “Please show me the way to heaven.\" “Do\n",
    "good deeds, serve your people and the messenger from heaven would\n",
    "come to fetch you to heaven,\" replied the voice.\n",
    "The selfish King, eager to capture the Swan, tried doing some good\n",
    "deeds in his Kingdom. “Now, I suppose a messenger will come to take\n",
    "me to heaven,\" he thought. But, no messenger came.\n",
    "The King then disguised himself and went out into the street. There\n",
    "he tried helping an old man. But the old man became angry and said,\n",
    "“You need not try to help. I am in this miserable state because of\n",
    "out selfish King. He has done nothing for his people.\"\n",
    "Suddenly, the King heard the golden swan’s voice, “Do good deeds and\n",
    "you will come to heaven.\" It dawned on the King that by doing\n",
    "selfish acts, he will not go to heaven.\n",
    "He realized that his people needed him and carrying out his duties\n",
    "was the only way to heaven. After that day he became a responsible\n",
    "King.\n",
    "\"\"\"\n"
   ]
  },
  {
   "cell_type": "code",
   "execution_count": 2,
   "metadata": {},
   "outputs": [],
   "source": [
    "story1 = story1.replace(\",\", \"\").replace(\"\\n\", \"\").replace('.', '').replace('\"', '').replace(\"!\",\"\").replace(\"?\",\"\").casefold()\n",
    "story2 = story2.replace(\",\", \"\").replace(\"\\n\", \"\").replace('.', '').replace('\"', '').replace(\"!\",\"\").replace(\"?\",\"\").casefold()\n"
   ]
  },
  {
   "cell_type": "code",
   "execution_count": 3,
   "metadata": {},
   "outputs": [
    {
     "name": "stdout",
     "output_type": "stream",
     "text": [
      "First Story words : ['in', 'a', 'far', 'away', 'kingdom', 'there', 'was', 'a', 'river', 'this', 'riverwas', 'home', 'to', 'many', 'golden', 'swans', 'the', 'swans', 'spent', 'most', 'of', 'their', 'timeon', 'the', 'banks', 'of', 'the', 'river', 'every', 'six', 'months', 'the', 'swans', 'would', 'leavea', 'golden', 'feather', 'as', 'a', 'fee', 'for', 'using', 'the', 'lake', 'the', 'soldiers', 'of', 'thekingdom', 'would', 'collect', 'the', 'feathers', 'and', 'deposit', 'them', 'in', 'the', 'royaltreasuryone', 'day', 'a', 'homeless', 'bird', 'saw', 'the', 'river', 'the', 'water', 'in', 'this', 'riverseems', 'so', 'cool', 'and', 'soothing', 'i', 'will', 'make', 'my', 'home', 'here', 'thought', 'thebirdas', 'soon', 'as', 'the', 'bird', 'settled', 'down', 'near', 'the', 'river', 'the', 'golden', 'swansnoticed', 'her', 'they', 'came', 'shouting', 'this', 'river', 'belongs', 'to', 'us', 'we', 'paya', 'golden', 'feather', 'to', 'the', 'king', 'to', 'use', 'this', 'river', 'you', 'can', 'not', 'liveherei', 'am', 'homeless', 'brothers', 'i', 'too', 'will', 'pay', 'the', 'rent', 'please', 'give', 'meshelter', 'the', 'bird', 'pleaded', 'how', 'will', 'you', 'pay', 'the', 'rent', 'you', 'do', 'nothave', 'golden', 'feathers', 'said', 'the', 'swans', 'laughing', 'they', 'further', 'addedstop', 'dreaming', 'and', 'leave', 'once', 'the', 'humble', 'bird', 'pleaded', 'many', 'timesbut', 'the', 'arrogant', 'swans', 'drove', 'the', 'bird', 'awayi', 'will', 'teach', 'them', 'a', 'lesson', 'decided', 'the', 'humiliated', 'birdshe', 'went', 'to', 'the', 'king', 'and', 'said', 'o', 'king', 'the', 'swans', 'in', 'your', 'river', 'areimpolite', 'and', 'unkind', 'i', 'begged', 'for', 'shelter', 'but', 'they', 'said', 'that', 'theyhad', 'purchased', 'the', 'river', 'with', 'golden', 'feathersthe', 'king', 'was', 'angry', 'with', 'the', 'arrogant', 'swans', 'for', 'having', 'insulted', 'thehomeless', 'bird', 'he', 'ordered', 'his', 'soldiers', 'to', 'bring', 'the', 'arrogant', 'swansto', 'his', 'court', 'in', 'no', 'time', 'all', 'the', 'golden', 'swans', 'were', 'brought', 'to', 'theking’s', 'courtdo', 'you', 'think', 'the', 'royal', 'treasury', 'depends', 'upon', 'your', 'golden', 'feathersyou', 'can', 'not', 'decide', 'who', 'lives', 'by', 'the', 'river', 'leave', 'the', 'river', 'at', 'onceor', 'you', 'all', 'will', 'be', 'beheaded', 'shouted', 'the', 'kingthe', 'swans', 'shivered', 'with', 'fear', 'on', 'hearing', 'the', 'king', 'they', 'flew', 'awaynever', 'to', 'return', 'the', 'bird', 'built', 'her', 'home', 'near', 'the', 'river', 'and', 'livedthere', 'happily', 'forever', 'the', 'bird', 'gave', 'shelter', 'to', 'all', 'other', 'birds', 'inthe', 'river', '']\n",
      "Second Story words : ['long', 'time', 'ago', 'there', 'lived', 'a', 'king', 'he', 'was', 'lazy', 'andliked', 'all', 'the', 'comforts', 'of', 'life', 'he', 'never', 'carried', 'out', 'his', 'duties', 'asa', 'king', '“our', 'king', 'does', 'not', 'take', 'care', 'of', 'our', 'needs', 'he', 'also', 'ignoresthe', 'affairs', 'of', 'his', 'kingdom', 'the', 'people', 'complainedone', 'day', 'the', 'king', 'went', 'into', 'the', 'forest', 'to', 'hunt', 'after', 'havingwandered', 'for', 'quite', 'sometime', 'he', 'became', 'thirsty', 'to', 'his', 'relief', 'hespotted', 'a', 'lake', 'as', 'he', 'was', 'drinking', 'water', 'he', 'suddenly', 'saw', 'a', 'goldenswan', 'come', 'out', 'of', 'the', 'lake', 'and', 'perch', 'on', 'a', 'stone', '“oh', 'a', 'golden', 'swani', 'must', 'capture', 'it', 'thought', 'the', 'kingbut', 'as', 'soon', 'as', 'he', 'held', 'his', 'bow', 'up', 'the', 'swan', 'disappeared', 'and', 'theking', 'heard', 'a', 'voice', '“i', 'am', 'the', 'golden', 'swan', 'if', 'you', 'want', 'to', 'captureme', 'you', 'must', 'come', 'to', 'heavensurprised', 'the', 'king', 'said', '“please', 'show', 'me', 'the', 'way', 'to', 'heaven', '“dogood', 'deeds', 'serve', 'your', 'people', 'and', 'the', 'messenger', 'from', 'heaven', 'wouldcome', 'to', 'fetch', 'you', 'to', 'heaven', 'replied', 'the', 'voicethe', 'selfish', 'king', 'eager', 'to', 'capture', 'the', 'swan', 'tried', 'doing', 'some', 'gooddeeds', 'in', 'his', 'kingdom', '“now', 'i', 'suppose', 'a', 'messenger', 'will', 'come', 'to', 'takeme', 'to', 'heaven', 'he', 'thought', 'but', 'no', 'messenger', 'camethe', 'king', 'then', 'disguised', 'himself', 'and', 'went', 'out', 'into', 'the', 'street', 'therehe', 'tried', 'helping', 'an', 'old', 'man', 'but', 'the', 'old', 'man', 'became', 'angry', 'and', 'said“you', 'need', 'not', 'try', 'to', 'help', 'i', 'am', 'in', 'this', 'miserable', 'state', 'because', 'ofout', 'selfish', 'king', 'he', 'has', 'done', 'nothing', 'for', 'his', 'peoplesuddenly', 'the', 'king', 'heard', 'the', 'golden', 'swan’s', 'voice', '“do', 'good', 'deeds', 'andyou', 'will', 'come', 'to', 'heaven', 'it', 'dawned', 'on', 'the', 'king', 'that', 'by', 'doingselfish', 'acts', 'he', 'will', 'not', 'go', 'to', 'heavenhe', 'realized', 'that', 'his', 'people', 'needed', 'him', 'and', 'carrying', 'out', 'his', 'dutieswas', 'the', 'only', 'way', 'to', 'heaven', 'after', 'that', 'day', 'he', 'became', 'a', 'responsibleking']\n"
     ]
    }
   ],
   "source": [
    "story1_words = story1.split(\" \")\n",
    "print(\"First Story words :\",story1_words)\n",
    "story2_words = story2.split(\" \")\n",
    "print(\"Second Story words :\",story2_words)\n"
   ]
  },
  {
   "cell_type": "code",
   "execution_count": 4,
   "metadata": {},
   "outputs": [
    {
     "name": "stdout",
     "output_type": "stream",
     "text": [
      "First Story vocabulary : {'shivered', '', 'down', 'banks', 'angry', 'awaynever', 'every', 'awayi', 'birdshe', 'theking’s', 'swansnoticed', 'leave', 'how', 'thebirdas', 'royal', 'fee', 'soon', 'liveherei', 'king', 'on', 'belongs', 'inthe', 'of', 'golden', 'brothers', 'to', 'livedthere', 'with', 'happily', 'make', 'you', 'give', 'areimpolite', 'her', 'return', 'soldiers', 'thought', 'as', 'addedstop', 'months', 'shouting', 'so', 'ordered', 'feathersthe', 'many', 'riverseems', 'think', 'who', 'be', 'your', 'beheaded', 'six', 'further', 'my', 'pleaded', 'home', 'no', 'begged', 'timeon', 'teach', 'feathersyou', 'bird', 'not', 'shouted', 'courtdo', 'meshelter', 'river', 'in', 'kingthe', 'swansto', 'us', 'leavea', 'insulted', 'theyhad', 'humiliated', 'use', 'kingdom', 'was', 'day', 'away', 'at', 'court', 'unkind', 'onceor', 'i', 'saw', 'depends', 'near', 'upon', 'fear', 'paya', 'there', 'am', 'but', 'and', 'this', 'brought', 'by', 'thekingdom', 'drove', 'humble', 'decide', 'their', 'hearing', 'far', 'using', 'o', 'spent', 'decided', 'feather', 'having', 'thehomeless', 'bring', 'would', 'laughing', 'the', 'shelter', 'nothave', 'arrogant', 'soothing', 'other', 'royaltreasuryone', 'feathers', 'lesson', 'most', 'cool', 'birds', 'forever', 'they', 'purchased', 'rent', 'all', 'please', 'settled', 'he', 'we', 'deposit', 'came', 'his', 'flew', 'collect', 'were', 'them', 'a', 'riverwas', 'said', 'dreaming', 'swans', 'gave', 'lake', 'too', 'treasury', 'water', 'timesbut', 'that', 'can', 'built', 'will', 'here', 'once', 'pay', 'time', 'went', 'lives', 'homeless', 'do', 'for'}\n",
      "Second Story vocabulary {'street', 'after', 'drinking', 'heaven', 'want', 'angry', 'kingbut', 'also', 'disappeared', 'me', 'help', 'tried', 'soon', 'king', 'good', 'on', 'of', 'said“you', 'golden', 'andyou', 'because', '“dogood', 'dutieswas', 'to', 'him', 'andliked', 'complainedone', 'hespotted', 'people', 'you', 'deeds', 'eager', 'disguised', 'goldenswan', 'duties', 'thought', 'as', 'selfish', 'swan’s', 'life', 'out', 'care', 'wouldcome', '“our', '“do', 'needs', 'our', 'became', 'old', 'bow', 'heavensurprised', 'hunt', 'your', 'must', 'show', 'captureme', 'doingselfish', 'some', 'heavenhe', 'no', 'voicethe', 'done', '“i', 'has', 'gooddeeds', 'havingwandered', 'need', 'heard', 'not', 'way', 'in', 'state', 'up', 'capture', 'does', 'affairs', '“oh', 'was', 'kingdom', 'day', 'ignoresthe', 'swani', 'lazy', 'voice', 'thirsty', 'into', 'miserable', 'himself', 'quite', 'i', 'saw', 'dawned', 'comforts', 'responsibleking', 'there', 'am', 'but', 'and', '“please', 'this', 'suddenly', 'by', 'relief', '“now', 'carried', 'the', 'it', 'therehe', 'takeme', 'perch', 'camethe', 'carrying', 'only', 'come', 'peoplesuddenly', 'helping', 'lived', 'serve', 'all', 'asa', 'held', 'an', 'never', 'from', 'stone', 'he', 'suppose', 'nothing', 'realized', 'try', 'his', 'swan', 'theking', 'doing', 'sometime', 'long', 'a', 'said', 'ago', 'man', 'if', 'replied', 'messenger', 'lake', 'water', 'that', 'fetch', 'will', 'go', 'then', 'forest', 'time', 'take', 'went', 'needed', 'ofout', 'acts', 'for'}\n"
     ]
    }
   ],
   "source": [
    "story1_vocab = set(story1_words)\n",
    "print(\"First Story vocabulary :\",story1_vocab)\n",
    "story2_vocab = set(story2_words)\n",
    "print(\"Second Story vocabulary\",story2_vocab)\n"
   ]
  },
  {
   "cell_type": "code",
   "execution_count": 5,
   "metadata": {},
   "outputs": [
    {
     "name": "stdout",
     "output_type": "stream",
     "text": [
      "Common Vocabulary : {'was', 'kingdom', 'day', 'angry', 'all', 'i', 'saw', 'he', 'soon', 'your', 'king', 'on', 'his', 'there', 'am', 'of', 'golden', 'but', 'and', 'no', 'this', 'a', 'said', 'to', 'by', 'lake', 'you', 'water', 'that', 'will', 'not', 'thought', 'as', 'time', 'the', 'went', 'in', 'for'}\n"
     ]
    }
   ],
   "source": [
    "common_vocab = story1_vocab & story2_vocab\n",
    "print(\"Common Vocabulary :\",common_vocab)\n"
   ]
  },
  {
   "cell_type": "code",
   "execution_count": 6,
   "metadata": {},
   "outputs": [
    {
     "name": "stdout",
     "output_type": "stream",
     "text": [
      "First Story words : ['in', 'a', 'far', 'away', 'kingdom', 'there', 'was', 'a', 'river', 'this', 'river', 'was', 'home', 'to', 'many', 'golden', 'swans', 'the', 'swans', 'spent', 'most', 'of', 'their', 'time', 'on', 'the', 'banks', 'of', 'the', 'river', 'every', 'six', 'months', 'the', 'swans', 'would', 'leave', 'a', 'golden', 'feather', 'as', 'a', 'fee', 'for', 'using', 'the', 'lake', 'the', 'soldiers', 'of', 'the', 'kingdom', 'would', 'collect', 'the', 'feathers', 'and', 'deposit', 'them', 'in', 'the', 'royal', 'treasury', 'one', 'day', 'a', 'homeless', 'bird', 'saw', 'the', 'river', 'the', 'water', 'in', 'this', 'river', 'seems', 'so', 'cool', 'and', 'soothing', 'i', 'will', 'make', 'my', 'home', 'here', 'thought', 'the', 'bird', 'as', 'soon', 'as', 'the', 'bird', 'settled', 'down', 'near', 'the', 'river', 'the', 'golden', 'swans', 'noticed', 'her', 'they', 'came', 'shouting', 'this', 'river', 'belongs', 'to', 'us', 'we', 'pay', 'a', 'golden', 'feather', 'to', 'the', 'king', 'to', 'use', 'this', 'river', 'you', 'can', 'not', 'live', 'here', 'i', 'am', 'homeless', 'brothers', 'i', 'too', 'will', 'pay', 'the', 'rent', 'please', 'give', 'me', 'shelter', 'the', 'bird', 'pleaded', 'how', 'will', 'you', 'pay', 'the', 'rent', 'you', 'do', 'not', 'have', 'golden', 'feathers', 'said', 'the', 'swans', 'laughing', 'they', 'further', 'added', 'stop', 'dreaming', 'and', 'leave', 'once', 'the', 'humble', 'bird', 'pleaded', 'many', 'times', 'but', 'the', 'arrogant', 'swans', 'drove', 'the', 'bird', 'away', 'i', 'will', 'teach', 'them', 'a', 'lesson', 'decided', 'the', 'humiliated', 'bird', 'she', 'went', 'to', 'the', 'king', 'and', 'said', 'o', 'king', 'the', 'swans', 'in', 'your', 'river', 'are', 'impolite', 'and', 'unkind', 'i', 'begged', 'for', 'shelter', 'but', 'they', 'said', 'that', 'they', 'had', 'purchased', 'the', 'river', 'with', 'golden', 'feathers', 'the', 'king', 'was', 'angry', 'with', 'the', 'arrogant', 'swans', 'for', 'having', 'insulted', 'the', 'homeless', 'bird', 'he', 'ordered', 'his', 'soldiers', 'to', 'bring', 'the', 'arrogant', 'swans', 'to', 'his', 'court', 'in', 'no', 'time', 'all', 'the', 'golden', 'swans', 'were', 'brought', 'to', 'the', 'king’s', 'court', 'do', 'you', 'think', 'the', 'royal', 'treasury', 'depends', 'upon', 'your', 'golden', 'feathers', 'you', 'can', 'not', 'decide', 'who', 'lives', 'by', 'the', 'river', 'leave', 'the', 'river', 'at', 'once', 'or', 'you', 'all', 'will', 'be', 'beheaded', 'shouted', 'the', 'king', 'the', 'swans', 'shivered', 'with', 'fear', 'on', 'hearing', 'the', 'king', 'they', 'flew', 'away', 'never', 'to', 'return', 'the', 'bird', 'built', 'her', 'home', 'near', 'the', 'river', 'and', 'lived', 'there', 'happily', 'forever', 'the', 'bird', 'gave', 'shelter', 'to', 'all', 'other', 'birds', 'in', 'the', 'river', '']\n",
      "Second Story words : ['long', 'time', 'ago', 'there', 'lived', 'a', 'king', 'he', 'was', 'lazy', 'and', 'liked', 'all', 'the', 'comforts', 'of', 'life', 'he', 'never', 'carried', 'out', 'his', 'duties', 'as', 'a', 'king', '“our', 'king', 'does', 'not', 'take', 'care', 'of', 'our', 'needs', 'he', 'also', 'ignores', 'the', 'affairs', 'of', 'his', 'kingdom', 'the', 'people', 'complained', 'one', 'day', 'the', 'king', 'went', 'into', 'the', 'forest', 'to', 'hunt', 'after', 'having', 'wandered', 'for', 'quite', 'sometime', 'he', 'became', 'thirsty', 'to', 'his', 'relief', 'he', 'spotted', 'a', 'lake', 'as', 'he', 'was', 'drinking', 'water', 'he', 'suddenly', 'saw', 'a', 'golden', 'swan', 'come', 'out', 'of', 'the', 'lake', 'and', 'perch', 'on', 'a', 'stone', '“oh', 'a', 'golden', 'swan', 'i', 'must', 'capture', 'it', 'thought', 'the', 'king', 'but', 'as', 'soon', 'as', 'he', 'held', 'his', 'bow', 'up', 'the', 'swan', 'disappeared', 'and', 'the', 'king', 'heard', 'a', 'voice', '“i', 'am', 'the', 'golden', 'swan', 'if', 'you', 'want', 'to', 'capture', 'me', 'you', 'must', 'come', 'to', 'heaven', 'surprised', 'the', 'king', 'said', '“please', 'show', 'me', 'the', 'way', 'to', 'heaven', '“do', 'good', 'deeds', 'serve', 'your', 'people', 'and', 'the', 'messenger', 'from', 'heaven', 'would', 'come', 'to', 'fetch', 'you', 'to', 'heaven', 'replied', 'the', 'voice', 'the', 'selfish', 'king', 'eager', 'to', 'capture', 'the', 'swan', 'tried', 'doing', 'some', 'good', 'deeds', 'in', 'his', 'kingdom', '“now', 'i', 'suppose', 'a', 'messenger', 'will', 'come', 'to', 'take', 'me', 'to', 'heaven', 'he', 'thought', 'but', 'no', 'messenger', 'came', 'the', 'king', 'then', 'disguised', 'himself', 'and', 'went', 'out', 'into', 'the', 'street', 'there', 'he', 'tried', 'helping', 'an', 'old', 'man', 'but', 'the', 'old', 'man', 'became', 'angry', 'and', 'said', '“you', 'need', 'not', 'try', 'to', 'help', 'i', 'am', 'in', 'this', 'miserable', 'state', 'because', 'of', 'out', 'selfish', 'king', 'he', 'has', 'done', 'nothing', 'for', 'his', 'people', 'suddenly', 'the', 'king', 'heard', 'the', 'golden', 'swan’s', 'voice', '“do', 'good', 'deeds', 'and', 'you', 'will', 'come', 'to', 'heaven', 'it', 'dawned', 'on', 'the', 'king', 'that', 'by', 'doing', 'selfish', 'acts', 'he', 'will', 'not', 'go', 'to', 'heaven', 'he', 'realized', 'that', 'his', 'people', 'needed', 'him', 'and', 'carrying', 'out', 'his', 'duties', 'was', 'the', 'only', 'way', 'to', 'heaven', 'after', 'that', 'day', 'he', 'became', 'a', 'responsible', 'king', '']\n",
      "First Story vocabulary : {'shivered', '', 'down', 'banks', 'angry', 'every', 'me', 'impolite', 'leave', 'how', 'royal', 'fee', 'soon', 'king', 'on', 'belongs', 'seems', 'of', 'golden', 'brothers', 'to', 'added', 'with', 'happily', 'make', 'you', 'give', 'she', 'her', 'return', 'soldiers', 'thought', 'as', 'months', 'times', 'shouting', 'so', 'ordered', 'or', 'many', 'think', 'who', 'be', 'your', 'beheaded', 'six', 'further', 'my', 'pleaded', 'home', 'no', 'begged', 'teach', 'stop', 'bird', 'not', 'shouted', 'river', 'in', 'us', 'insulted', 'humiliated', 'use', 'kingdom', 'was', 'day', 'away', 'at', 'court', 'unkind', 'king’s', 'i', 'saw', 'depends', 'near', 'upon', 'fear', 'there', 'am', 'but', 'and', 'this', 'live', 'brought', 'by', 'drove', 'humble', 'decide', 'their', 'hearing', 'far', 'using', 'o', 'spent', 'decided', 'feather', 'having', 'bring', 'would', 'laughing', 'the', 'shelter', 'arrogant', 'soothing', 'other', 'feathers', 'lesson', 'most', 'had', 'cool', 'birds', 'forever', 'they', 'purchased', 'lived', 'rent', 'all', 'please', 'never', 'settled', 'he', 'one', 'we', 'deposit', 'came', 'his', 'flew', 'collect', 'were', 'them', 'a', 'have', 'said', 'dreaming', 'swans', 'are', 'gave', 'noticed', 'lake', 'too', 'treasury', 'water', 'that', 'built', 'can', 'will', 'here', 'once', 'pay', 'time', 'went', 'lives', 'homeless', 'do', 'for'}\n",
      "Second Story vocabulary {'ignores', 'street', '', 'after', 'drinking', 'surprised', 'heaven', 'want', 'angry', 'also', 'responsible', 'disappeared', 'me', 'help', 'tried', 'soon', 'king', 'good', 'on', 'of', 'golden', 'because', 'to', 'him', 'you', 'people', 'deeds', 'eager', 'disguised', 'duties', 'thought', 'as', 'selfish', 'swan’s', 'life', 'out', 'wandered', 'care', '“our', '“do', 'needs', 'our', 'became', 'old', 'bow', 'hunt', 'your', 'must', 'show', 'complained', 'some', 'no', 'done', '“i', 'has', 'need', 'spotted', 'liked', 'heard', 'not', 'way', 'in', 'state', 'up', 'capture', 'does', 'affairs', '“oh', '“you', 'was', 'kingdom', 'day', 'lazy', 'voice', 'thirsty', 'into', 'miserable', 'himself', 'quite', 'i', 'saw', 'dawned', 'comforts', 'there', 'am', 'but', 'and', '“please', 'this', 'suddenly', 'by', 'having', 'relief', 'would', 'carried', 'the', 'it', '“now', 'perch', 'carrying', 'only', 'come', 'helping', 'lived', 'serve', 'all', 'held', 'an', 'never', 'from', 'stone', 'he', 'suppose', 'nothing', 'one', 'try', 'realized', 'came', 'his', 'swan', 'doing', 'sometime', 'long', 'a', 'said', 'ago', 'man', 'if', 'replied', 'messenger', 'lake', 'water', 'that', 'fetch', 'will', 'go', 'then', 'forest', 'time', 'take', 'went', 'needed', 'acts', 'for'}\n",
      "Common Vocabulary : {'', 'was', 'kingdom', 'day', 'angry', 'lived', 'all', 'me', 'never', 'i', 'saw', 'he', 'soon', 'your', 'king', 'on', 'one', 'came', 'his', 'of', 'there', 'golden', 'am', 'but', 'and', 'no', 'this', 'a', 'said', 'to', 'by', 'lake', 'you', 'water', 'that', 'will', 'having', 'not', 'thought', 'as', 'would', 'the', 'time', 'went', 'in', 'for'}\n"
     ]
    }
   ],
   "source": [
    "story1 = \"\"\"In a far away kingdom, there was a river. This river was home to many golden swans. The swans spent most of their time on the banks of the river. Every six months, the swans would leave a golden feather as a fee for using the lake. The soldiers of the kingdom would collect the feathers and deposit them in the royal treasury. \n",
    "One day, a homeless bird saw the river. \"The water in this river seems so cool and soothing. I will make my home here,\" thought the bird. \n",
    "As soon as the bird settled down near the river, the golden swans noticed her. They came shouting. \"This river belongs to us. We pay a golden feather to the King to use this river. You can not live here.\" \n",
    "\"I am homeless, brothers. I too will pay the rent. Please give me shelter,\" the bird pleaded. \"How will you pay the rent? You do not have golden feathers,\" said the swans laughing. They further added, \"Stop dreaming and leave once.\" The humble bird pleaded many times. But the arrogant swans drove the bird away. \n",
    "\"I will teach them a lesson!\" decided the humiliated bird. \n",
    "She went to the King and said, \"O King! The swans in your river are impolite and unkind. I begged for shelter but they said that they had purchased the river with golden feathers.\" \n",
    "The King was angry with the arrogant swans for having insulted the homeless bird. He ordered his soldiers to bring the arrogant swans to his court. In no time, all the golden swans were brought to the King’s court. \n",
    "\"Do you think the royal treasury depends upon your golden feathers? You can not decide who lives by the river. Leave the river at once or you all will be beheaded!\" shouted the King. \n",
    "The swans shivered with fear on hearing the King. They flew away never to return. The bird built her home near the river and lived there happily forever. The bird gave shelter to all other birds in the river. \"\"\"\n",
    "\n",
    "story2 = \"\"\"Long time ago, there lived a King. He was lazy and liked all the comforts of life. He never carried out his duties as a King. “Our King does not take care of our needs. He also ignores the affairs of his kingdom.\" The people complained. \n",
    "One day, the King went into the forest to hunt. After having wandered for quite sometime, he became thirsty. To his relief, he spotted a lake. As he was drinking water, he suddenly saw a golden swan come out of the lake and perch on a stone. “Oh! A golden swan. I must capture it,\" thought the King. \n",
    "But as soon as he held his bow up, the swan disappeared. And the King heard a voice, “I am the Golden Swan. If you want to capture me, you must come to heaven.\" \n",
    "Surprised, the King said, “Please show me the way to heaven.\" “Do good deeds, serve your people and the messenger from heaven would come to fetch you to heaven,\" replied the voice. \n",
    "The selfish King, eager to capture the Swan, tried doing some good deeds in his Kingdom. “Now, I suppose a messenger will come to take me to heaven,\" he thought. But, no messenger came. \n",
    "The King then disguised himself and went out into the street. There he tried helping an old man. But the old man became angry and said, “You need not try to help. I am in this miserable state because of out selfish King. He has done nothing for his people.\" \n",
    "Suddenly, the King heard the golden swan’s voice, “Do good deeds and you will come to heaven.\" It dawned on the King that by doing selfish acts, he will not go to heaven. \n",
    "He realized that his people needed him and carrying out his duties was the only way to heaven. After that day he became a responsible King. \n",
    "\"\"\"\n",
    "\n",
    "story1 = story1.replace(\",\", \"\").replace(\"\\n\", \"\").replace('.', '').replace('\"', '').replace(\"!\",\"\").replace(\"?\",\"\").casefold()\n",
    "story2 = story2.replace(\",\", \"\").replace(\"\\n\", \"\").replace('.', '').replace('\"', '').replace(\"!\",\"\").replace(\"?\",\"\").casefold()\n",
    "\n",
    "story1_words = story1.split(\" \")\n",
    "print(\"First Story words :\",story1_words)\n",
    "story2_words = story2.split(\" \")\n",
    "print(\"Second Story words :\",story2_words)\n",
    "\n",
    "story1_vocab = set(story1_words)\n",
    "print(\"First Story vocabulary :\",story1_vocab)\n",
    "story2_vocab = set(story2_words)\n",
    "print(\"Second Story vocabulary\",story2_vocab)\n",
    "\n",
    "common_vocab = story1_vocab & story2_vocab\n",
    "print(\"Common Vocabulary :\",common_vocab)"
   ]
  },
  {
   "cell_type": "code",
   "execution_count": null,
   "metadata": {},
   "outputs": [],
   "source": []
  }
 ],
 "metadata": {
  "kernelspec": {
   "display_name": "Python 3",
   "language": "python",
   "name": "python3"
  },
  "language_info": {
   "codemirror_mode": {
    "name": "ipython",
    "version": 3
   },
   "file_extension": ".py",
   "mimetype": "text/x-python",
   "name": "python",
   "nbconvert_exporter": "python",
   "pygments_lexer": "ipython3",
   "version": "3.6.5"
  }
 },
 "nbformat": 4,
 "nbformat_minor": 2
}
